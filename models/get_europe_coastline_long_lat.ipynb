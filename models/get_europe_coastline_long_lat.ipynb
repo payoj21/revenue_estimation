{
 "cells": [
  {
   "cell_type": "code",
   "execution_count": 3,
   "metadata": {},
   "outputs": [],
   "source": [
    "import fiona\n",
    "import pandas as pd"
   ]
  },
  {
   "cell_type": "code",
   "execution_count": 19,
   "metadata": {},
   "outputs": [],
   "source": [
    "long_lat = pd.read_csv(\"C:/Users/payoj.jain/Documents/projects/lat_long_coastal_2.csv\")"
   ]
  },
  {
   "cell_type": "code",
   "execution_count": 20,
   "metadata": {},
   "outputs": [
    {
     "data": {
      "text/html": [
       "<div>\n",
       "<style scoped>\n",
       "    .dataframe tbody tr th:only-of-type {\n",
       "        vertical-align: middle;\n",
       "    }\n",
       "\n",
       "    .dataframe tbody tr th {\n",
       "        vertical-align: top;\n",
       "    }\n",
       "\n",
       "    .dataframe thead th {\n",
       "        text-align: right;\n",
       "    }\n",
       "</style>\n",
       "<table border=\"1\" class=\"dataframe\">\n",
       "  <thead>\n",
       "    <tr style=\"text-align: right;\">\n",
       "      <th></th>\n",
       "      <th>Longitude</th>\n",
       "      <th>Latitude</th>\n",
       "    </tr>\n",
       "  </thead>\n",
       "  <tbody>\n",
       "    <tr>\n",
       "      <td>0</td>\n",
       "      <td>-16.091787</td>\n",
       "      <td>11.076704</td>\n",
       "    </tr>\n",
       "    <tr>\n",
       "      <td>1</td>\n",
       "      <td>-16.091658</td>\n",
       "      <td>11.076728</td>\n",
       "    </tr>\n",
       "    <tr>\n",
       "      <td>2</td>\n",
       "      <td>-16.091395</td>\n",
       "      <td>11.076723</td>\n",
       "    </tr>\n",
       "    <tr>\n",
       "      <td>3</td>\n",
       "      <td>-16.091192</td>\n",
       "      <td>11.076770</td>\n",
       "    </tr>\n",
       "    <tr>\n",
       "      <td>4</td>\n",
       "      <td>-16.091087</td>\n",
       "      <td>11.076812</td>\n",
       "    </tr>\n",
       "  </tbody>\n",
       "</table>\n",
       "</div>"
      ],
      "text/plain": [
       "   Longitude   Latitude\n",
       "0 -16.091787  11.076704\n",
       "1 -16.091658  11.076728\n",
       "2 -16.091395  11.076723\n",
       "3 -16.091192  11.076770\n",
       "4 -16.091087  11.076812"
      ]
     },
     "execution_count": 20,
     "metadata": {},
     "output_type": "execute_result"
    }
   ],
   "source": [
    "long_lat.head()"
   ]
  },
  {
   "cell_type": "code",
   "execution_count": 21,
   "metadata": {},
   "outputs": [
    {
     "data": {
      "text/plain": [
       "Index(['Longitude', 'Latitude'], dtype='object')"
      ]
     },
     "execution_count": 21,
     "metadata": {},
     "output_type": "execute_result"
    }
   ],
   "source": [
    "long_lat.columns"
   ]
  },
  {
   "cell_type": "code",
   "execution_count": 22,
   "metadata": {},
   "outputs": [
    {
     "data": {
      "text/plain": [
       "0    11.076704\n",
       "1    11.076728\n",
       "2    11.076723\n",
       "3    11.076770\n",
       "4    11.076812\n",
       "Name: Latitude, dtype: float64"
      ]
     },
     "execution_count": 22,
     "metadata": {},
     "output_type": "execute_result"
    }
   ],
   "source": [
    "long_lat[\"Latitude\"].head()"
   ]
  },
  {
   "cell_type": "code",
   "execution_count": 23,
   "metadata": {},
   "outputs": [
    {
     "name": "stdout",
     "output_type": "stream",
     "text": [
      "<class 'numpy.ndarray'>\n",
      "[-16.0917869  11.0767045]\n",
      "<class 'numpy.ndarray'>\n",
      "[-16.0916582  11.0767282]\n",
      "<class 'numpy.ndarray'>\n",
      "[-16.0913953  11.0767229]\n",
      "<class 'numpy.ndarray'>\n",
      "[-16.0911915  11.0767703]\n",
      "<class 'numpy.ndarray'>\n",
      "[-16.0910869  11.0768124]\n"
     ]
    }
   ],
   "source": [
    "for point in long_lat.values[:5]:\n",
    "    print(type(point))\n",
    "    print(point)"
   ]
  },
  {
   "cell_type": "code",
   "execution_count": 24,
   "metadata": {},
   "outputs": [],
   "source": [
    "cornerpoints = {\n",
    "    \"top_left\": \n",
    "    {\n",
    "        \"longitude\":-10.584508,\n",
    "        \"latitude\":71.233180\n",
    "    },\n",
    "    \"top_right\":\n",
    "    {\n",
    "        \"longitude\":31.264335,\n",
    "        \"latitude\": 71.147963\n",
    "    },\n",
    "    \"bottom_left\": \n",
    "    {\n",
    "        \"longitude\":-11.453524, \n",
    "        \"latitude\":36.080757\n",
    "    },\n",
    "    \"bottom_right\" : \n",
    "    {\n",
    "        \"longitude\": 31.440117, \n",
    "        \"latitude\": 36.073787\n",
    "    }\n",
    "}"
   ]
  },
  {
   "cell_type": "code",
   "execution_count": 12,
   "metadata": {},
   "outputs": [],
   "source": [
    "europe_coastline = pd.DataFrame([], columns={\"longitude\", \"latitude\"})"
   ]
  },
  {
   "cell_type": "code",
   "execution_count": 13,
   "metadata": {},
   "outputs": [
    {
     "data": {
      "text/plain": [
       "{'top_left': {'longitude': -10.584508, 'latitude': 71.23318},\n",
       " 'top_right': {'longitude': 31.264335, 'latitude': 71.147963},\n",
       " 'bottom_left': {'longitude': -11.453524, 'latitude': 36.080757},\n",
       " 'bottom_right': {'longitude': 31.440117, 'latitude': 36.073787}}"
      ]
     },
     "execution_count": 13,
     "metadata": {},
     "output_type": "execute_result"
    }
   ],
   "source": [
    "cornerpoints"
   ]
  },
  {
   "cell_type": "code",
   "execution_count": 25,
   "metadata": {},
   "outputs": [
    {
     "name": "stdout",
     "output_type": "stream",
     "text": [
      "[-16.0917869  11.0767045]\n",
      "0  points done\n",
      "[ 5.4204265 59.160069 ]\n",
      "100000  points done\n",
      "[ 5.2631401 60.772729 ]\n",
      "200000  points done\n",
      "[ 4.7040014 61.0122268]\n",
      "300000  points done\n",
      "[ 7.7439391 63.354927 ]\n",
      "400000  points done\n",
      "[ 8.4888856 63.2821775]\n",
      "500000  points done\n",
      "[10.7215453 64.8936393]\n",
      "600000  points done\n"
     ]
    }
   ],
   "source": [
    "i = 0 \n",
    "for point in long_lat.values:\n",
    "    if(i % 100000) == 0:\n",
    "        print(point)\n",
    "        print(i,\" points done\")\n",
    "    i +=1\n",
    "    longitude = point[0]\n",
    "    latitude = point[1]\n",
    "    xtl = latitude - cornerpoints[\"top_left\"][\"latitude\"]\n",
    "    xbl = latitude - cornerpoints[\"bottom_left\"][\"latitude\"]\n",
    "    \n",
    "    ytl = longitude - cornerpoints[\"top_left\"][\"longitude\"]\n",
    "    ybl = longitude - cornerpoints[\"bottom_left\"][\"longitude\"]\n",
    "    \n",
    "    xtr = latitude - cornerpoints[\"top_right\"][\"latitude\"]\n",
    "    xbr = latitude - cornerpoints[\"bottom_right\"][\"latitude\"]\n",
    "    \n",
    "    ytr = longitude - cornerpoints[\"top_right\"][\"longitude\"]\n",
    "    ybr = longitude - cornerpoints[\"bottom_right\"][\"longitude\"]\n",
    "    \n",
    "    if xtl <= 0 and xbl >=0 and ytl >= 0 and ybl >= 0 and xtr <= 0 and xbr >=0 and ytr <= 0 and ybr <=0:\n",
    "        europe_coastline = pd.concat([europe_coastline, pd.DataFrame([(longitude, latitude)], columns={'longitude', 'latitude'})])\n"
   ]
  },
  {
   "cell_type": "code",
   "execution_count": 26,
   "metadata": {},
   "outputs": [
    {
     "data": {
      "text/plain": [
       "1121137"
      ]
     },
     "execution_count": 26,
     "metadata": {},
     "output_type": "execute_result"
    }
   ],
   "source": [
    "len(europe_coastline.values)"
   ]
  },
  {
   "cell_type": "code",
   "execution_count": 27,
   "metadata": {},
   "outputs": [],
   "source": [
    "europe_coastline.to_csv(\"C:/Users/payoj.jain/Documents/projects/europe_coastline.csv\")"
   ]
  },
  {
   "cell_type": "code",
   "execution_count": null,
   "metadata": {},
   "outputs": [],
   "source": []
  }
 ],
 "metadata": {
  "kernelspec": {
   "display_name": "Python 3",
   "language": "python",
   "name": "python3"
  },
  "language_info": {
   "codemirror_mode": {
    "name": "ipython",
    "version": 3
   },
   "file_extension": ".py",
   "mimetype": "text/x-python",
   "name": "python",
   "nbconvert_exporter": "python",
   "pygments_lexer": "ipython3",
   "version": "3.7.4"
  }
 },
 "nbformat": 4,
 "nbformat_minor": 4
}
