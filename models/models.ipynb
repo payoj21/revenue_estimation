{
 "cells": [
  {
   "cell_type": "markdown",
   "metadata": {},
   "source": [
    "### __Model Building__"
   ]
  },
  {
   "cell_type": "markdown",
   "metadata": {},
   "source": [
    "#### __Preparing data__"
   ]
  },
  {
   "cell_type": "code",
   "execution_count": 82,
   "metadata": {},
   "outputs": [],
   "source": [
    "import pandas as pd\n",
    "import numpy as np \n",
    "import pandas as pd \n",
    "import matplotlib.pyplot as plt\n",
    "import matplotlib\n",
    "import seaborn as sns\n",
    "import random\n",
    "import datetime\n",
    "\n",
    "from sklearn.model_selection import KFold, RandomizedSearchCV\n",
    "from sklearn.linear_model import LinearRegression as lr\n",
    "from sklearn.metrics import mean_squared_error, mean_absolute_error\n",
    "import lightgbm as lgb"
   ]
  },
  {
   "cell_type": "code",
   "execution_count": 83,
   "metadata": {},
   "outputs": [],
   "source": [
    "matplotlib.rcParams['figure.figsize'] = (25, 15)\n",
    "matplotlib.rcParams['font.size'] = 10\n",
    "random.seed(0)\n",
    "pd.set_option('display.max_columns', None)\n",
    "\n",
    "import warnings\n",
    "warnings.filterwarnings('ignore')"
   ]
  },
  {
   "cell_type": "code",
   "execution_count": 84,
   "metadata": {},
   "outputs": [],
   "source": [
    "property_df = pd.read_csv(r\"C:/Users/payoj.jain/Documents/projects/Europe Revenue estimation/data/X_data.csv\")"
   ]
  },
  {
   "cell_type": "code",
   "execution_count": 85,
   "metadata": {},
   "outputs": [
    {
     "data": {
      "text/html": [
       "<div>\n",
       "<style scoped>\n",
       "    .dataframe tbody tr th:only-of-type {\n",
       "        vertical-align: middle;\n",
       "    }\n",
       "\n",
       "    .dataframe tbody tr th {\n",
       "        vertical-align: top;\n",
       "    }\n",
       "\n",
       "    .dataframe thead th {\n",
       "        text-align: right;\n",
       "    }\n",
       "</style>\n",
       "<table border=\"1\" class=\"dataframe\">\n",
       "  <thead>\n",
       "    <tr style=\"text-align: right;\">\n",
       "      <th></th>\n",
       "      <th>Unnamed: 0</th>\n",
       "      <th>ACCOMMODATION_CODE</th>\n",
       "      <th>ACCOMMODATION_TYPE</th>\n",
       "      <th>ACCO_DESCRIPTION</th>\n",
       "      <th>NUMBER_OF_PERSONS</th>\n",
       "      <th>BEDROOM_COUNT</th>\n",
       "      <th>BATHROOM_COUNT</th>\n",
       "      <th>HAS_WIFI</th>\n",
       "      <th>HAS_POOL</th>\n",
       "      <th>HAS_PRIVATE_POOL</th>\n",
       "      <th>HAS_SHARED_POOL</th>\n",
       "      <th>HAS_INDOOR_POOL</th>\n",
       "      <th>HAS_OUTDOOR_POOL</th>\n",
       "      <th>IS_DETACHED</th>\n",
       "      <th>HAS_SAUNA</th>\n",
       "      <th>HAS_JACUZZI</th>\n",
       "      <th>IS_SKIING</th>\n",
       "      <th>IS_ON_A_FARM</th>\n",
       "      <th>X2017.x</th>\n",
       "      <th>X2018.x</th>\n",
       "      <th>X2019.x</th>\n",
       "      <th>X2017.y</th>\n",
       "      <th>X2018.y</th>\n",
       "      <th>X2019.y</th>\n",
       "      <th>total2019</th>\n",
       "      <th>total2018</th>\n",
       "      <th>total2017</th>\n",
       "      <th>Total_HO</th>\n",
       "      <th>Total_BV</th>\n",
       "      <th>LATITUDE</th>\n",
       "      <th>LONGITUDE</th>\n",
       "      <th>max</th>\n",
       "      <th>ELEVATION</th>\n",
       "      <th>if_near_coast</th>\n",
       "      <th>distance_from_coast</th>\n",
       "      <th>nearest_coastal_longitude</th>\n",
       "      <th>nearest_coastal_latitude</th>\n",
       "      <th>COUNTRY</th>\n",
       "      <th>price</th>\n",
       "      <th>bookings_count</th>\n",
       "    </tr>\n",
       "  </thead>\n",
       "  <tbody>\n",
       "    <tr>\n",
       "      <td>0</td>\n",
       "      <td>0</td>\n",
       "      <td>AT-1050-01</td>\n",
       "      <td>1</td>\n",
       "      <td>Apartment</td>\n",
       "      <td>4</td>\n",
       "      <td>1</td>\n",
       "      <td>1</td>\n",
       "      <td>1</td>\n",
       "      <td>0</td>\n",
       "      <td>0</td>\n",
       "      <td>0</td>\n",
       "      <td>0</td>\n",
       "      <td>0</td>\n",
       "      <td>0</td>\n",
       "      <td>0</td>\n",
       "      <td>0</td>\n",
       "      <td>0</td>\n",
       "      <td>0</td>\n",
       "      <td>1068.4800</td>\n",
       "      <td>0.0</td>\n",
       "      <td>0.0</td>\n",
       "      <td>2627.118</td>\n",
       "      <td>432.358</td>\n",
       "      <td>0.0</td>\n",
       "      <td>0.0</td>\n",
       "      <td>432.358</td>\n",
       "      <td>3695.5980</td>\n",
       "      <td>3059.476</td>\n",
       "      <td>1068.4800</td>\n",
       "      <td>48.184128</td>\n",
       "      <td>16.367247</td>\n",
       "      <td>3695.5980</td>\n",
       "      <td>207.0</td>\n",
       "      <td>0</td>\n",
       "      <td>NaN</td>\n",
       "      <td>NaN</td>\n",
       "      <td>NaN</td>\n",
       "      <td>AT</td>\n",
       "      <td>0.0</td>\n",
       "      <td>1.0</td>\n",
       "    </tr>\n",
       "    <tr>\n",
       "      <td>1</td>\n",
       "      <td>1</td>\n",
       "      <td>AT-1115-01</td>\n",
       "      <td>3</td>\n",
       "      <td>Chalet</td>\n",
       "      <td>10</td>\n",
       "      <td>0</td>\n",
       "      <td>0</td>\n",
       "      <td>0</td>\n",
       "      <td>0</td>\n",
       "      <td>0</td>\n",
       "      <td>0</td>\n",
       "      <td>0</td>\n",
       "      <td>0</td>\n",
       "      <td>1</td>\n",
       "      <td>0</td>\n",
       "      <td>0</td>\n",
       "      <td>0</td>\n",
       "      <td>0</td>\n",
       "      <td>4474.4400</td>\n",
       "      <td>0.0</td>\n",
       "      <td>0.0</td>\n",
       "      <td>0.000</td>\n",
       "      <td>0.000</td>\n",
       "      <td>0.0</td>\n",
       "      <td>0.0</td>\n",
       "      <td>0.000</td>\n",
       "      <td>4474.4400</td>\n",
       "      <td>0.000</td>\n",
       "      <td>4474.4400</td>\n",
       "      <td>47.038075</td>\n",
       "      <td>10.610737</td>\n",
       "      <td>4474.4400</td>\n",
       "      <td>1444.0</td>\n",
       "      <td>0</td>\n",
       "      <td>NaN</td>\n",
       "      <td>NaN</td>\n",
       "      <td>NaN</td>\n",
       "      <td>AT</td>\n",
       "      <td>NaN</td>\n",
       "      <td>NaN</td>\n",
       "    </tr>\n",
       "    <tr>\n",
       "      <td>2</td>\n",
       "      <td>2</td>\n",
       "      <td>AT-1160-01</td>\n",
       "      <td>1</td>\n",
       "      <td>Apartment</td>\n",
       "      <td>2</td>\n",
       "      <td>2</td>\n",
       "      <td>1</td>\n",
       "      <td>1</td>\n",
       "      <td>0</td>\n",
       "      <td>0</td>\n",
       "      <td>0</td>\n",
       "      <td>0</td>\n",
       "      <td>0</td>\n",
       "      <td>0</td>\n",
       "      <td>0</td>\n",
       "      <td>0</td>\n",
       "      <td>0</td>\n",
       "      <td>0</td>\n",
       "      <td>358.3000</td>\n",
       "      <td>0.0</td>\n",
       "      <td>0.0</td>\n",
       "      <td>329.472</td>\n",
       "      <td>0.000</td>\n",
       "      <td>0.0</td>\n",
       "      <td>0.0</td>\n",
       "      <td>0.000</td>\n",
       "      <td>687.7720</td>\n",
       "      <td>329.472</td>\n",
       "      <td>358.3000</td>\n",
       "      <td>48.216322</td>\n",
       "      <td>16.312146</td>\n",
       "      <td>687.7720</td>\n",
       "      <td>232.0</td>\n",
       "      <td>0</td>\n",
       "      <td>NaN</td>\n",
       "      <td>NaN</td>\n",
       "      <td>NaN</td>\n",
       "      <td>AT</td>\n",
       "      <td>NaN</td>\n",
       "      <td>NaN</td>\n",
       "    </tr>\n",
       "    <tr>\n",
       "      <td>3</td>\n",
       "      <td>3</td>\n",
       "      <td>AT-1160-02</td>\n",
       "      <td>1</td>\n",
       "      <td>Apartment</td>\n",
       "      <td>2</td>\n",
       "      <td>1</td>\n",
       "      <td>1</td>\n",
       "      <td>1</td>\n",
       "      <td>0</td>\n",
       "      <td>0</td>\n",
       "      <td>0</td>\n",
       "      <td>0</td>\n",
       "      <td>0</td>\n",
       "      <td>0</td>\n",
       "      <td>0</td>\n",
       "      <td>0</td>\n",
       "      <td>0</td>\n",
       "      <td>0</td>\n",
       "      <td>518.9500</td>\n",
       "      <td>0.0</td>\n",
       "      <td>0.0</td>\n",
       "      <td>123.266</td>\n",
       "      <td>0.000</td>\n",
       "      <td>0.0</td>\n",
       "      <td>0.0</td>\n",
       "      <td>0.000</td>\n",
       "      <td>642.2160</td>\n",
       "      <td>123.266</td>\n",
       "      <td>518.9500</td>\n",
       "      <td>48.216322</td>\n",
       "      <td>16.312146</td>\n",
       "      <td>642.2160</td>\n",
       "      <td>232.0</td>\n",
       "      <td>0</td>\n",
       "      <td>NaN</td>\n",
       "      <td>NaN</td>\n",
       "      <td>NaN</td>\n",
       "      <td>AT</td>\n",
       "      <td>NaN</td>\n",
       "      <td>NaN</td>\n",
       "    </tr>\n",
       "    <tr>\n",
       "      <td>4</td>\n",
       "      <td>4</td>\n",
       "      <td>AT-1160-03</td>\n",
       "      <td>1</td>\n",
       "      <td>Apartment</td>\n",
       "      <td>4</td>\n",
       "      <td>3</td>\n",
       "      <td>1</td>\n",
       "      <td>1</td>\n",
       "      <td>0</td>\n",
       "      <td>0</td>\n",
       "      <td>0</td>\n",
       "      <td>0</td>\n",
       "      <td>0</td>\n",
       "      <td>0</td>\n",
       "      <td>0</td>\n",
       "      <td>0</td>\n",
       "      <td>0</td>\n",
       "      <td>0</td>\n",
       "      <td>2202.5825</td>\n",
       "      <td>0.0</td>\n",
       "      <td>0.0</td>\n",
       "      <td>430.144</td>\n",
       "      <td>0.000</td>\n",
       "      <td>0.0</td>\n",
       "      <td>0.0</td>\n",
       "      <td>0.000</td>\n",
       "      <td>2632.7265</td>\n",
       "      <td>430.144</td>\n",
       "      <td>2202.5825</td>\n",
       "      <td>48.216320</td>\n",
       "      <td>16.312150</td>\n",
       "      <td>2632.7265</td>\n",
       "      <td>232.0</td>\n",
       "      <td>0</td>\n",
       "      <td>NaN</td>\n",
       "      <td>NaN</td>\n",
       "      <td>NaN</td>\n",
       "      <td>AT</td>\n",
       "      <td>NaN</td>\n",
       "      <td>NaN</td>\n",
       "    </tr>\n",
       "  </tbody>\n",
       "</table>\n",
       "</div>"
      ],
      "text/plain": [
       "   Unnamed: 0 ACCOMMODATION_CODE  ACCOMMODATION_TYPE ACCO_DESCRIPTION  \\\n",
       "0           0         AT-1050-01                   1        Apartment   \n",
       "1           1         AT-1115-01                   3           Chalet   \n",
       "2           2         AT-1160-01                   1        Apartment   \n",
       "3           3         AT-1160-02                   1        Apartment   \n",
       "4           4         AT-1160-03                   1        Apartment   \n",
       "\n",
       "   NUMBER_OF_PERSONS  BEDROOM_COUNT  BATHROOM_COUNT  HAS_WIFI  HAS_POOL  \\\n",
       "0                  4              1               1         1         0   \n",
       "1                 10              0               0         0         0   \n",
       "2                  2              2               1         1         0   \n",
       "3                  2              1               1         1         0   \n",
       "4                  4              3               1         1         0   \n",
       "\n",
       "   HAS_PRIVATE_POOL  HAS_SHARED_POOL  HAS_INDOOR_POOL  HAS_OUTDOOR_POOL  \\\n",
       "0                 0                0                0                 0   \n",
       "1                 0                0                0                 0   \n",
       "2                 0                0                0                 0   \n",
       "3                 0                0                0                 0   \n",
       "4                 0                0                0                 0   \n",
       "\n",
       "   IS_DETACHED  HAS_SAUNA  HAS_JACUZZI  IS_SKIING  IS_ON_A_FARM    X2017.x  \\\n",
       "0            0          0            0          0             0  1068.4800   \n",
       "1            1          0            0          0             0  4474.4400   \n",
       "2            0          0            0          0             0   358.3000   \n",
       "3            0          0            0          0             0   518.9500   \n",
       "4            0          0            0          0             0  2202.5825   \n",
       "\n",
       "   X2018.x  X2019.x   X2017.y  X2018.y  X2019.y  total2019  total2018  \\\n",
       "0      0.0      0.0  2627.118  432.358      0.0        0.0    432.358   \n",
       "1      0.0      0.0     0.000    0.000      0.0        0.0      0.000   \n",
       "2      0.0      0.0   329.472    0.000      0.0        0.0      0.000   \n",
       "3      0.0      0.0   123.266    0.000      0.0        0.0      0.000   \n",
       "4      0.0      0.0   430.144    0.000      0.0        0.0      0.000   \n",
       "\n",
       "   total2017  Total_HO   Total_BV   LATITUDE  LONGITUDE        max  ELEVATION  \\\n",
       "0  3695.5980  3059.476  1068.4800  48.184128  16.367247  3695.5980      207.0   \n",
       "1  4474.4400     0.000  4474.4400  47.038075  10.610737  4474.4400     1444.0   \n",
       "2   687.7720   329.472   358.3000  48.216322  16.312146   687.7720      232.0   \n",
       "3   642.2160   123.266   518.9500  48.216322  16.312146   642.2160      232.0   \n",
       "4  2632.7265   430.144  2202.5825  48.216320  16.312150  2632.7265      232.0   \n",
       "\n",
       "   if_near_coast  distance_from_coast  nearest_coastal_longitude  \\\n",
       "0              0                  NaN                        NaN   \n",
       "1              0                  NaN                        NaN   \n",
       "2              0                  NaN                        NaN   \n",
       "3              0                  NaN                        NaN   \n",
       "4              0                  NaN                        NaN   \n",
       "\n",
       "   nearest_coastal_latitude COUNTRY  price  bookings_count  \n",
       "0                       NaN      AT    0.0             1.0  \n",
       "1                       NaN      AT    NaN             NaN  \n",
       "2                       NaN      AT    NaN             NaN  \n",
       "3                       NaN      AT    NaN             NaN  \n",
       "4                       NaN      AT    NaN             NaN  "
      ]
     },
     "execution_count": 85,
     "metadata": {},
     "output_type": "execute_result"
    }
   ],
   "source": [
    "property_df.head()"
   ]
  },
  {
   "cell_type": "code",
   "execution_count": 86,
   "metadata": {},
   "outputs": [],
   "source": [
    "# Clipping outliers\n",
    "def clipping_outliers(X_train, df, var):\n",
    "    IQR = X_train[var].quantile(0.80)-X_train[var].quantile(0.2)\n",
    "    lower_bound = X_train[var].quantile(0.25) - 4*IQR\n",
    "    upper_bound = X_train[var].quantile(0.75) + 4*IQR\n",
    "    no_outliers = len(df[df[var]>upper_bound]) + len(df[df[var]<lower_bound])\n",
    "    print('There are %i outliers in %s: %.3f%%' %(no_outliers, var, no_outliers/len(df)))\n",
    "    df[var] = df[var].clip(lower_bound, upper_bound)\n",
    "    return df"
   ]
  },
  {
   "cell_type": "code",
   "execution_count": 87,
   "metadata": {},
   "outputs": [
    {
     "data": {
      "text/plain": [
       "0"
      ]
     },
     "execution_count": 87,
     "metadata": {},
     "output_type": "execute_result"
    }
   ],
   "source": [
    "property_df[(property_df[\"max\"] == 0) & (property_df[\"COUNTRY\"] == \"DE\") & (property_df[\"if_near_coast\"] == 1)].count()[\"ACCOMMODATION_CODE\"]"
   ]
  },
  {
   "cell_type": "code",
   "execution_count": 88,
   "metadata": {},
   "outputs": [],
   "source": [
    "columns = [\"ACCOMMODATION_CODE\",\"ACCOMMODATION_TYPE\", \"NUMBER_OF_PERSONS\", \"BEDROOM_COUNT\", \"BATHROOM_COUNT\", \"HAS_WIFI\", \"HAS_POOL\",\"HAS_PRIVATE_POOL\", \"HAS_SHARED_POOL\", \"IS_SKIING\",\"total2019\" ,\"ELEVATION\", \"distance_from_coast\"]\n",
    "# columns = [\"NUMBER_OF_PERSONS\", \"BEDROOM_COUNT\", \"BATHROOM_COUNT\", \"HAS_WIFI\", \"HAS_POOL\",\"HAS_PRIVATE_POOL\", \"IS_SKIING\",\"max\" ,\"ELEVATION\", \"if_near_coast\", \"distance_from_coast\", \"price\", \"bookings_count\"]\n",
    "\n",
    "country_df = property_df[(property_df['COUNTRY'] == \"DE\") & (property_df[\"if_near_coast\"] == 1) & (property_df[\"total2019\"] != 0)]\n",
    "data_train = country_df[columns]"
   ]
  },
  {
   "cell_type": "code",
   "execution_count": 89,
   "metadata": {},
   "outputs": [
    {
     "data": {
      "text/plain": [
       "array([[<matplotlib.axes._subplots.AxesSubplot object at 0x0000019E1F596DC8>,\n",
       "        <matplotlib.axes._subplots.AxesSubplot object at 0x0000019E1F5A6508>],\n",
       "       [<matplotlib.axes._subplots.AxesSubplot object at 0x0000019E1FAE2308>,\n",
       "        <matplotlib.axes._subplots.AxesSubplot object at 0x0000019E20030708>],\n",
       "       [<matplotlib.axes._subplots.AxesSubplot object at 0x0000019E20314F48>,\n",
       "        <matplotlib.axes._subplots.AxesSubplot object at 0x0000019E1F7BFDC8>]],\n",
       "      dtype=object)"
      ]
     },
     "execution_count": 89,
     "metadata": {},
     "output_type": "execute_result"
    },
    {
     "data": {
      "image/png": "[encoded data removed]",
      "text/plain": [
       "<Figure size 1800x1080 with 6 Axes>"
      ]
     },
     "metadata": {
      "needs_background": "light"
     },
     "output_type": "display_data"
    }
   ],
   "source": [
    "data_train[data_train[\"ACCOMMODATION_TYPE\"]==1][[\"BATHROOM_COUNT\", \"BEDROOM_COUNT\", \"ELEVATION\", \"NUMBER_OF_PERSONS\", \"distance_from_coast\", \"total2019\"]].hist(bins=100)"
   ]
  },
  {
   "cell_type": "code",
   "execution_count": 90,
   "metadata": {},
   "outputs": [
    {
     "data": {
      "text/plain": [
       "array([[<matplotlib.axes._subplots.AxesSubplot object at 0x0000019E1F11FD88>,\n",
       "        <matplotlib.axes._subplots.AxesSubplot object at 0x0000019E219AC688>],\n",
       "       [<matplotlib.axes._subplots.AxesSubplot object at 0x0000019E219DAD08>,\n",
       "        <matplotlib.axes._subplots.AxesSubplot object at 0x0000019E219F1748>],\n",
       "       [<matplotlib.axes._subplots.AxesSubplot object at 0x0000019E21171148>,\n",
       "        <matplotlib.axes._subplots.AxesSubplot object at 0x0000019E211A6B08>]],\n",
       "      dtype=object)"
      ]
     },
     "execution_count": 90,
     "metadata": {},
     "output_type": "execute_result"
    },
    {
     "data": {
      "image/png": "[encoded data removed]",
      "text/plain": [
       "<Figure size 1800x1080 with 6 Axes>"
      ]
     },
     "metadata": {
      "needs_background": "light"
     },
     "output_type": "display_data"
    }
   ],
   "source": [
    "data_train[data_train[\"ACCOMMODATION_TYPE\"]==2][[\"BATHROOM_COUNT\", \"BEDROOM_COUNT\", \"ELEVATION\", \"NUMBER_OF_PERSONS\", \"distance_from_coast\", \"total2019\"]].hist(bins=100)"
   ]
  },
  {
   "cell_type": "code",
   "execution_count": 91,
   "metadata": {},
   "outputs": [
    {
     "data": {
      "text/plain": [
       "array([[<matplotlib.axes._subplots.AxesSubplot object at 0x0000019E21AF28C8>,\n",
       "        <matplotlib.axes._subplots.AxesSubplot object at 0x0000019E21A0E488>],\n",
       "       [<matplotlib.axes._subplots.AxesSubplot object at 0x0000019E21B8EB48>,\n",
       "        <matplotlib.axes._subplots.AxesSubplot object at 0x0000019E21BA4588>],\n",
       "       [<matplotlib.axes._subplots.AxesSubplot object at 0x0000019E21BCDF48>,\n",
       "        <matplotlib.axes._subplots.AxesSubplot object at 0x0000019E21C0A948>]],\n",
       "      dtype=object)"
      ]
     },
     "execution_count": 91,
     "metadata": {},
     "output_type": "execute_result"
    },
    {
     "data": {
      "image/png": "[encoded data removed]",
      "text/plain": [
       "<Figure size 1800x1080 with 6 Axes>"
      ]
     },
     "metadata": {
      "needs_background": "light"
     },
     "output_type": "display_data"
    }
   ],
   "source": [
    "data_train[data_train[\"ACCOMMODATION_TYPE\"]==3][[\"BATHROOM_COUNT\", \"BEDROOM_COUNT\", \"ELEVATION\", \"NUMBER_OF_PERSONS\", \"distance_from_coast\", \"total2019\"]].hist(bins=100)"
   ]
  },
  {
   "cell_type": "code",
   "execution_count": 92,
   "metadata": {},
   "outputs": [],
   "source": [
    "# data_train['price'] = data_train['price'].fillna(0)\n",
    "# data_train[\"bookings_count\"] = data_train[\"bookings_count\"].fillna(0)\n",
    "# data_train[\"distance_from_coast\"] = data_train[\"distance_from_coast\"].fillna(1000)\n",
    "# data_train['total2018'] = data_train['total2018'].fillna(0)\n",
    "# data_train = pd.get_dummies(data_train, columns=[\"ACCO_DESCRIPTION\"], prefix=[\"ACCO_DESCRIPTION\"])"
   ]
  },
  {
   "cell_type": "code",
   "execution_count": 93,
   "metadata": {},
   "outputs": [
    {
     "name": "stdout",
     "output_type": "stream",
     "text": [
      "There are 4 outliers in total2019: 0.005%\n"
     ]
    }
   ],
   "source": [
    "for col in [\"total2019\"]:\n",
    "    data_train = clipping_outliers(data_train, data_train, col)"
   ]
  },
  {
   "cell_type": "code",
   "execution_count": 94,
   "metadata": {},
   "outputs": [
    {
     "data": {
      "text/html": [
       "<div>\n",
       "<style scoped>\n",
       "    .dataframe tbody tr th:only-of-type {\n",
       "        vertical-align: middle;\n",
       "    }\n",
       "\n",
       "    .dataframe tbody tr th {\n",
       "        vertical-align: top;\n",
       "    }\n",
       "\n",
       "    .dataframe thead th {\n",
       "        text-align: right;\n",
       "    }\n",
       "</style>\n",
       "<table border=\"1\" class=\"dataframe\">\n",
       "  <thead>\n",
       "    <tr style=\"text-align: right;\">\n",
       "      <th></th>\n",
       "      <th>ACCOMMODATION_CODE</th>\n",
       "      <th>ACCOMMODATION_TYPE</th>\n",
       "      <th>NUMBER_OF_PERSONS</th>\n",
       "      <th>BEDROOM_COUNT</th>\n",
       "      <th>BATHROOM_COUNT</th>\n",
       "      <th>HAS_WIFI</th>\n",
       "      <th>HAS_POOL</th>\n",
       "      <th>HAS_PRIVATE_POOL</th>\n",
       "      <th>HAS_SHARED_POOL</th>\n",
       "      <th>IS_SKIING</th>\n",
       "      <th>total2019</th>\n",
       "      <th>ELEVATION</th>\n",
       "      <th>distance_from_coast</th>\n",
       "    </tr>\n",
       "  </thead>\n",
       "  <tbody>\n",
       "    <tr>\n",
       "      <td>6022</td>\n",
       "      <td>DE-23968-08</td>\n",
       "      <td>2</td>\n",
       "      <td>7</td>\n",
       "      <td>2</td>\n",
       "      <td>1</td>\n",
       "      <td>1</td>\n",
       "      <td>0</td>\n",
       "      <td>0</td>\n",
       "      <td>0</td>\n",
       "      <td>0</td>\n",
       "      <td>13622.437</td>\n",
       "      <td>3.0</td>\n",
       "      <td>13.722871</td>\n",
       "    </tr>\n",
       "    <tr>\n",
       "      <td>6023</td>\n",
       "      <td>DE-23968-09</td>\n",
       "      <td>2</td>\n",
       "      <td>7</td>\n",
       "      <td>3</td>\n",
       "      <td>1</td>\n",
       "      <td>1</td>\n",
       "      <td>0</td>\n",
       "      <td>0</td>\n",
       "      <td>0</td>\n",
       "      <td>0</td>\n",
       "      <td>15236.139</td>\n",
       "      <td>3.0</td>\n",
       "      <td>13.722871</td>\n",
       "    </tr>\n",
       "    <tr>\n",
       "      <td>6024</td>\n",
       "      <td>DE-23974-04</td>\n",
       "      <td>1</td>\n",
       "      <td>5</td>\n",
       "      <td>3</td>\n",
       "      <td>1</td>\n",
       "      <td>1</td>\n",
       "      <td>0</td>\n",
       "      <td>0</td>\n",
       "      <td>0</td>\n",
       "      <td>0</td>\n",
       "      <td>8660.963</td>\n",
       "      <td>15.0</td>\n",
       "      <td>4.330825</td>\n",
       "    </tr>\n",
       "    <tr>\n",
       "      <td>6026</td>\n",
       "      <td>DE-24960-01</td>\n",
       "      <td>2</td>\n",
       "      <td>4</td>\n",
       "      <td>3</td>\n",
       "      <td>1</td>\n",
       "      <td>0</td>\n",
       "      <td>0</td>\n",
       "      <td>0</td>\n",
       "      <td>0</td>\n",
       "      <td>0</td>\n",
       "      <td>13929.217</td>\n",
       "      <td>1.0</td>\n",
       "      <td>4.938526</td>\n",
       "    </tr>\n",
       "  </tbody>\n",
       "</table>\n",
       "</div>"
      ],
      "text/plain": [
       "     ACCOMMODATION_CODE  ACCOMMODATION_TYPE  NUMBER_OF_PERSONS  BEDROOM_COUNT  \\\n",
       "6022        DE-23968-08                   2                  7              2   \n",
       "6023        DE-23968-09                   2                  7              3   \n",
       "6024        DE-23974-04                   1                  5              3   \n",
       "6026        DE-24960-01                   2                  4              3   \n",
       "\n",
       "      BATHROOM_COUNT  HAS_WIFI  HAS_POOL  HAS_PRIVATE_POOL  HAS_SHARED_POOL  \\\n",
       "6022               1         1         0                 0                0   \n",
       "6023               1         1         0                 0                0   \n",
       "6024               1         1         0                 0                0   \n",
       "6026               1         0         0                 0                0   \n",
       "\n",
       "      IS_SKIING  total2019  ELEVATION  distance_from_coast  \n",
       "6022          0  13622.437        3.0            13.722871  \n",
       "6023          0  15236.139        3.0            13.722871  \n",
       "6024          0   8660.963       15.0             4.330825  \n",
       "6026          0  13929.217        1.0             4.938526  "
      ]
     },
     "execution_count": 94,
     "metadata": {},
     "output_type": "execute_result"
    }
   ],
   "source": [
    "data_train.tail(4)"
   ]
  },
  {
   "cell_type": "code",
   "execution_count": 95,
   "metadata": {},
   "outputs": [
    {
     "data": {
      "text/plain": [
       "728"
      ]
     },
     "execution_count": 95,
     "metadata": {},
     "output_type": "execute_result"
    }
   ],
   "source": [
    "len(data_train.values)"
   ]
  },
  {
   "cell_type": "code",
   "execution_count": 96,
   "metadata": {},
   "outputs": [],
   "source": [
    "# data_train = (data_train - data_train.mean())/data_train.std()"
   ]
  },
  {
   "cell_type": "code",
   "execution_count": 97,
   "metadata": {},
   "outputs": [
    {
     "data": {
      "text/plain": [
       "728"
      ]
     },
     "execution_count": 97,
     "metadata": {},
     "output_type": "execute_result"
    }
   ],
   "source": [
    "len(data_train.values)"
   ]
  },
  {
   "cell_type": "code",
   "execution_count": 98,
   "metadata": {},
   "outputs": [
    {
     "name": "stdout",
     "output_type": "stream",
     "text": [
      "['ACCOMMODATION_TYPE', 'NUMBER_OF_PERSONS', 'BEDROOM_COUNT', 'BATHROOM_COUNT', 'HAS_WIFI', 'HAS_POOL', 'HAS_PRIVATE_POOL', 'ELEVATION', 'distance_from_coast']\n"
     ]
    }
   ],
   "source": [
    "unused_cols = ['ACCOMMODATION_CODE', 'IS_SKIING', 'HAS_SHARED_POOL',\n",
    "               'HAS_OUTDOOR_POOL', 'IS_DETACHED', 'HAS_SAUNA', 'HAS_JACUZZI', \n",
    "               'IS_ON_A_FARM', 'X2017.x', 'X2018.x', 'X2019.x', 'X2017.y',\n",
    "               'X2018.y', 'X2019.y','max','total2018', 'total2017', 'total2019',\n",
    "               'Total_HO','Total_BV', 'LATITUDE', 'LONGITUDE', 'max',\n",
    "               'nearest_coastal_longitude','nearest_coastal_latitude', 'COUNTRY', 'bookings_count']\n",
    "features = [col for col in data_train.columns if col not in unused_cols]\n",
    "print(features)\n",
    "train = data_train[features][:-80]\n",
    "test = data_train[features][-80:]\n",
    "train.to_csv(r\"C:\\Users\\payoj.jain\\Documents\\projects\\Europe Revenue estimation\\data\\train.csv\")"
   ]
  },
  {
   "cell_type": "code",
   "execution_count": 99,
   "metadata": {},
   "outputs": [],
   "source": [
    "property_ids = pd.DataFrame(data_train['ACCOMMODATION_CODE'][:-80], columns=['ACCOMMODATION_CODE'])"
   ]
  },
  {
   "cell_type": "code",
   "execution_count": 100,
   "metadata": {},
   "outputs": [
    {
     "data": {
      "text/html": [
       "<div>\n",
       "<style scoped>\n",
       "    .dataframe tbody tr th:only-of-type {\n",
       "        vertical-align: middle;\n",
       "    }\n",
       "\n",
       "    .dataframe tbody tr th {\n",
       "        vertical-align: top;\n",
       "    }\n",
       "\n",
       "    .dataframe thead th {\n",
       "        text-align: right;\n",
       "    }\n",
       "</style>\n",
       "<table border=\"1\" class=\"dataframe\">\n",
       "  <thead>\n",
       "    <tr style=\"text-align: right;\">\n",
       "      <th></th>\n",
       "      <th>ACCOMMODATION_CODE</th>\n",
       "    </tr>\n",
       "  </thead>\n",
       "  <tbody>\n",
       "    <tr>\n",
       "      <td>4772</td>\n",
       "      <td>DE-00003-69</td>\n",
       "    </tr>\n",
       "    <tr>\n",
       "      <td>4773</td>\n",
       "      <td>DE-00003-70</td>\n",
       "    </tr>\n",
       "    <tr>\n",
       "      <td>4775</td>\n",
       "      <td>DE-00003-72</td>\n",
       "    </tr>\n",
       "    <tr>\n",
       "      <td>4776</td>\n",
       "      <td>DE-00003-73</td>\n",
       "    </tr>\n",
       "    <tr>\n",
       "      <td>4777</td>\n",
       "      <td>DE-00003-74</td>\n",
       "    </tr>\n",
       "  </tbody>\n",
       "</table>\n",
       "</div>"
      ],
      "text/plain": [
       "     ACCOMMODATION_CODE\n",
       "4772        DE-00003-69\n",
       "4773        DE-00003-70\n",
       "4775        DE-00003-72\n",
       "4776        DE-00003-73\n",
       "4777        DE-00003-74"
      ]
     },
     "execution_count": 100,
     "metadata": {},
     "output_type": "execute_result"
    }
   ],
   "source": [
    "property_ids.head()"
   ]
  },
  {
   "cell_type": "code",
   "execution_count": 101,
   "metadata": {},
   "outputs": [],
   "source": [
    "target_revenue = data_train['total2019'][:-80]"
   ]
  },
  {
   "cell_type": "code",
   "execution_count": 102,
   "metadata": {},
   "outputs": [],
   "source": [
    "test_target_revenue = data_train['total2019'][-80:]"
   ]
  },
  {
   "cell_type": "code",
   "execution_count": 103,
   "metadata": {},
   "outputs": [
    {
     "data": {
      "text/html": [
       "<div>\n",
       "<style scoped>\n",
       "    .dataframe tbody tr th:only-of-type {\n",
       "        vertical-align: middle;\n",
       "    }\n",
       "\n",
       "    .dataframe tbody tr th {\n",
       "        vertical-align: top;\n",
       "    }\n",
       "\n",
       "    .dataframe thead th {\n",
       "        text-align: right;\n",
       "    }\n",
       "</style>\n",
       "<table border=\"1\" class=\"dataframe\">\n",
       "  <thead>\n",
       "    <tr style=\"text-align: right;\">\n",
       "      <th></th>\n",
       "      <th>ACCOMMODATION_TYPE</th>\n",
       "      <th>NUMBER_OF_PERSONS</th>\n",
       "      <th>BEDROOM_COUNT</th>\n",
       "      <th>BATHROOM_COUNT</th>\n",
       "      <th>HAS_WIFI</th>\n",
       "      <th>HAS_POOL</th>\n",
       "      <th>HAS_PRIVATE_POOL</th>\n",
       "      <th>ELEVATION</th>\n",
       "      <th>distance_from_coast</th>\n",
       "    </tr>\n",
       "  </thead>\n",
       "  <tbody>\n",
       "    <tr>\n",
       "      <td>5678</td>\n",
       "      <td>2</td>\n",
       "      <td>8</td>\n",
       "      <td>4</td>\n",
       "      <td>2</td>\n",
       "      <td>0</td>\n",
       "      <td>0</td>\n",
       "      <td>0</td>\n",
       "      <td>2.0</td>\n",
       "      <td>30.911523</td>\n",
       "    </tr>\n",
       "    <tr>\n",
       "      <td>5689</td>\n",
       "      <td>1</td>\n",
       "      <td>2</td>\n",
       "      <td>2</td>\n",
       "      <td>1</td>\n",
       "      <td>1</td>\n",
       "      <td>0</td>\n",
       "      <td>0</td>\n",
       "      <td>51.0</td>\n",
       "      <td>22.719985</td>\n",
       "    </tr>\n",
       "    <tr>\n",
       "      <td>5690</td>\n",
       "      <td>1</td>\n",
       "      <td>5</td>\n",
       "      <td>5</td>\n",
       "      <td>1</td>\n",
       "      <td>1</td>\n",
       "      <td>0</td>\n",
       "      <td>0</td>\n",
       "      <td>51.0</td>\n",
       "      <td>22.719985</td>\n",
       "    </tr>\n",
       "    <tr>\n",
       "      <td>5691</td>\n",
       "      <td>1</td>\n",
       "      <td>12</td>\n",
       "      <td>13</td>\n",
       "      <td>4</td>\n",
       "      <td>1</td>\n",
       "      <td>0</td>\n",
       "      <td>0</td>\n",
       "      <td>51.0</td>\n",
       "      <td>22.719985</td>\n",
       "    </tr>\n",
       "    <tr>\n",
       "      <td>5696</td>\n",
       "      <td>1</td>\n",
       "      <td>2</td>\n",
       "      <td>3</td>\n",
       "      <td>1</td>\n",
       "      <td>0</td>\n",
       "      <td>0</td>\n",
       "      <td>0</td>\n",
       "      <td>14.0</td>\n",
       "      <td>4.466391</td>\n",
       "    </tr>\n",
       "  </tbody>\n",
       "</table>\n",
       "</div>"
      ],
      "text/plain": [
       "      ACCOMMODATION_TYPE  NUMBER_OF_PERSONS  BEDROOM_COUNT  BATHROOM_COUNT  \\\n",
       "5678                   2                  8              4               2   \n",
       "5689                   1                  2              2               1   \n",
       "5690                   1                  5              5               1   \n",
       "5691                   1                 12             13               4   \n",
       "5696                   1                  2              3               1   \n",
       "\n",
       "      HAS_WIFI  HAS_POOL  HAS_PRIVATE_POOL  ELEVATION  distance_from_coast  \n",
       "5678         0         0                 0        2.0            30.911523  \n",
       "5689         1         0                 0       51.0            22.719985  \n",
       "5690         1         0                 0       51.0            22.719985  \n",
       "5691         1         0                 0       51.0            22.719985  \n",
       "5696         0         0                 0       14.0             4.466391  "
      ]
     },
     "execution_count": 103,
     "metadata": {},
     "output_type": "execute_result"
    }
   ],
   "source": [
    "test.head()"
   ]
  },
  {
   "cell_type": "code",
   "execution_count": 104,
   "metadata": {},
   "outputs": [],
   "source": [
    "mean = target_revenue.mean()\n",
    "std = target_revenue.std()\n",
    "median = target_revenue.median()"
   ]
  },
  {
   "cell_type": "code",
   "execution_count": 105,
   "metadata": {},
   "outputs": [],
   "source": [
    "lower_bound = mean - std\n",
    "upper_bound = mean + std"
   ]
  },
  {
   "cell_type": "code",
   "execution_count": 106,
   "metadata": {},
   "outputs": [
    {
     "data": {
      "text/plain": [
       "(11294.405766056485,\n",
       " 8565.893499999998,\n",
       " 9978.65216116852,\n",
       " 1315.7536048879647,\n",
       " 21273.057927225003)"
      ]
     },
     "execution_count": 106,
     "metadata": {},
     "output_type": "execute_result"
    }
   ],
   "source": [
    "mean, median, std, lower_bound, upper_bound"
   ]
  },
  {
   "cell_type": "markdown",
   "metadata": {},
   "source": [
    "### __Modelling__"
   ]
  },
  {
   "cell_type": "markdown",
   "metadata": {},
   "source": [
    "##### __Hyperparameter tuning__"
   ]
  },
  {
   "cell_type": "raw",
   "metadata": {},
   "source": [
    "\"\"\"\n",
    "parameters = {'num_leaves':np.arange(30,120,1),\n",
    "             'max_depth':[7,8,9,10],\n",
    "             'min_child_sample': np.arange(15,80,1),\n",
    "             'reg_lambda':np.arange(0.1,0.5,0.01)}\n",
    "fit_params = {'verbose':500}\n",
    "grid_search = RandomizedSearchCV(model, parameters, cv=5, scoring='neg_mean_absolute_error')\n",
    "grid_search.fit(train[features], target_revenue, **fit_params)\n",
    "\n",
    "\"\"\""
   ]
  },
  {
   "cell_type": "markdown",
   "metadata": {},
   "source": [
    "#### __Fitting__"
   ]
  },
  {
   "cell_type": "code",
   "execution_count": 107,
   "metadata": {},
   "outputs": [],
   "source": [
    "iterations = 50000\n",
    "n_folds = 10"
   ]
  },
  {
   "cell_type": "markdown",
   "metadata": {},
   "source": [
    "### __Approach 1 : LGBM__ "
   ]
  },
  {
   "cell_type": "code",
   "execution_count": 108,
   "metadata": {},
   "outputs": [],
   "source": [
    "model_revenue = lgb.LGBMRegressor(num_leaves=50,\n",
    "                        max_depth=10,\n",
    "                        learning_rate=0.15,\n",
    "                        n_estimators=iterations,\n",
    "                        min_child_samples=25,\n",
    "                        subsample=0.75,\n",
    "                        subsample_freq=1,\n",
    "                        feature_fraction=0.75,\n",
    "                        random_state=2019,\n",
    "                        n_jobs=4,\n",
    "                        metrics='mae',\n",
    "                        lambda_l1= 0,\n",
    "                        lambda_l2 = 0.2)"
   ]
  },
  {
   "cell_type": "code",
   "execution_count": 109,
   "metadata": {},
   "outputs": [],
   "source": [
    "oof_train = np.zeros(shape=(len(train)))"
   ]
  },
  {
   "cell_type": "markdown",
   "metadata": {},
   "source": [
    "### __Training__\n",
    "\n",
    "#### __Revenue__"
   ]
  },
  {
   "cell_type": "code",
   "execution_count": 110,
   "metadata": {
    "jupyter": {
     "source_hidden": true
    }
   },
   "outputs": [
    {
     "name": "stdout",
     "output_type": "stream",
     "text": [
      "Training for revenue\n",
      "Fold no 1/10\n",
      "Training until validation scores don't improve for 500 rounds\n",
      "[500]\ttraining's l1: 1856.58\tvalid_1's l1: 5607.01\n",
      "Early stopping, best iteration is:\n",
      "[82]\ttraining's l1: 3639.77\tvalid_1's l1: 5354.74\n",
      "Fold no 2/10\n",
      "Training until validation scores don't improve for 500 rounds\n",
      "[500]\ttraining's l1: 1874.17\tvalid_1's l1: 5565.86\n",
      "Early stopping, best iteration is:\n",
      "[8]\ttraining's l1: 5301.09\tvalid_1's l1: 4877.89\n",
      "Fold no 3/10\n",
      "Training until validation scores don't improve for 500 rounds\n",
      "[500]\ttraining's l1: 1856.04\tvalid_1's l1: 4578.12\n",
      "Early stopping, best iteration is:\n",
      "[48]\ttraining's l1: 4178.36\tvalid_1's l1: 4354.64\n",
      "Fold no 4/10\n",
      "Training until validation scores don't improve for 500 rounds\n",
      "[500]\ttraining's l1: 1743.87\tvalid_1's l1: 5185.65\n",
      "Early stopping, best iteration is:\n",
      "[15]\ttraining's l1: 4819.85\tvalid_1's l1: 4654.64\n",
      "Fold no 5/10\n",
      "Training until validation scores don't improve for 500 rounds\n",
      "[500]\ttraining's l1: 1840.82\tvalid_1's l1: 4927.49\n",
      "Early stopping, best iteration is:\n",
      "[214]\ttraining's l1: 2682.83\tvalid_1's l1: 4832.4\n",
      "Fold no 6/10\n",
      "Training until validation scores don't improve for 500 rounds\n",
      "[500]\ttraining's l1: 1911.96\tvalid_1's l1: 4579.7\n",
      "Early stopping, best iteration is:\n",
      "[85]\ttraining's l1: 3718.08\tvalid_1's l1: 4471.19\n",
      "Fold no 7/10\n",
      "Training until validation scores don't improve for 500 rounds\n",
      "[500]\ttraining's l1: 1806.61\tvalid_1's l1: 5937.69\n",
      "Early stopping, best iteration is:\n",
      "[302]\ttraining's l1: 2290.55\tvalid_1's l1: 5735.3\n",
      "Fold no 8/10\n",
      "Training until validation scores don't improve for 500 rounds\n",
      "[500]\ttraining's l1: 1859.51\tvalid_1's l1: 5506.57\n",
      "Early stopping, best iteration is:\n",
      "[486]\ttraining's l1: 1887.96\tvalid_1's l1: 5467.54\n",
      "Fold no 9/10\n",
      "Training until validation scores don't improve for 500 rounds\n",
      "[500]\ttraining's l1: 1903.55\tvalid_1's l1: 5243.57\n",
      "Early stopping, best iteration is:\n",
      "[73]\ttraining's l1: 3790.93\tvalid_1's l1: 4957.94\n",
      "Fold no 10/10\n",
      "Training until validation scores don't improve for 500 rounds\n",
      "[500]\ttraining's l1: 1876.23\tvalid_1's l1: 6112.59\n",
      "Early stopping, best iteration is:\n",
      "[11]\ttraining's l1: 5033.45\tvalid_1's l1: 5131.81\n",
      "Training CV score: 4983.62165\n"
     ]
    }
   ],
   "source": [
    "print(\"Training for revenue\")\n",
    "feature_importance_df_revenue = pd.DataFrame()\n",
    "folds = KFold(n_splits=n_folds, shuffle=True, random_state=2019)\n",
    "\n",
    "for fold_, (trn_idx, val_idx) in enumerate(folds.split(train.values, target_revenue.values)):\n",
    "    print('Fold no %i/%i'%(fold_+1,n_folds))\n",
    "    trn_data = train.iloc[trn_idx][features]\n",
    "    trn_label = target_revenue.iloc[trn_idx]\n",
    "    val_data = train.iloc[val_idx][features]\n",
    "    val_label = target_revenue.iloc[val_idx]\n",
    "    model_revenue.fit(X=trn_data, y=trn_label,\n",
    "                     eval_set=[(trn_data, trn_label), (val_data, val_label)],\n",
    "                     verbose=500,early_stopping_rounds=500)\n",
    "\n",
    "    oof_train[val_idx] = model_revenue.predict(val_data)\n",
    "#     print(oof_train[val_idx])\n",
    "    fold_importance_df = pd.DataFrame()\n",
    "    fold_importance_df[\"feature\"] = features\n",
    "    fold_importance_df[\"importance\"] = model_revenue.feature_importances_\n",
    "    fold_importance_df[\"fold\"] = fold_ + 1\n",
    "    feature_importance_df_revenue = pd.concat([feature_importance_df_revenue, fold_importance_df], axis=0)\n",
    "\n",
    "score = mean_absolute_error(oof_train[:], target_revenue)\n",
    "print('Training CV score: %.5f' %score)"
   ]
  },
  {
   "cell_type": "code",
   "execution_count": 111,
   "metadata": {},
   "outputs": [],
   "source": [
    "result = np.zeros(len(test))\n",
    "for i, value in enumerate(test.values):\n",
    "    value = value.reshape(1,-1)\n",
    "#     print(value)\n",
    "    result[i] = model_revenue.predict(value)\n",
    "score = mean_absolute_error(result, test_target_revenue)"
   ]
  },
  {
   "cell_type": "code",
   "execution_count": 112,
   "metadata": {},
   "outputs": [
    {
     "data": {
      "text/plain": [
       "5788.711869383226"
      ]
     },
     "execution_count": 112,
     "metadata": {},
     "output_type": "execute_result"
    }
   ],
   "source": [
    "score"
   ]
  },
  {
   "cell_type": "code",
   "execution_count": 113,
   "metadata": {},
   "outputs": [
    {
     "data": {
      "image/png": "[encoded data removed]",
      "text/plain": [
       "<Figure size 1440x360 with 1 Axes>"
      ]
     },
     "metadata": {
      "needs_background": "light"
     },
     "output_type": "display_data"
    }
   ],
   "source": [
    "# Visualisation\n",
    "cols = (feature_importance_df_revenue[[\"feature\", \"importance\"]]\n",
    "        .groupby(\"feature\")\n",
    "        .mean()\n",
    "        .sort_values(by=\"importance\", ascending=False)[:25].index)\n",
    "\n",
    "best_features = feature_importance_df_revenue.loc[feature_importance_df_revenue.feature.isin(cols)]\n",
    "\n",
    "plt.figure(figsize=(20,5))\n",
    "sns.barplot(x=\"importance\",\n",
    "            y=\"feature\",\n",
    "            data=best_features.sort_values(by=\"importance\",\n",
    "                                           ascending=False))\n",
    "plt.title('Feature importances for revenue')\n",
    "plt.tight_layout()"
   ]
  },
  {
   "cell_type": "code",
   "execution_count": 114,
   "metadata": {},
   "outputs": [],
   "source": [
    "_error = (oof_train[:] - target_revenue)"
   ]
  },
  {
   "cell_type": "code",
   "execution_count": 115,
   "metadata": {},
   "outputs": [],
   "source": [
    "pred = pd.DataFrame(oof_train, columns={'predicted_revenue'})"
   ]
  },
  {
   "cell_type": "code",
   "execution_count": 116,
   "metadata": {},
   "outputs": [
    {
     "name": "stdout",
     "output_type": "stream",
     "text": [
      "predicted_revenue    11277.476398\n",
      "dtype: float64 predicted_revenue    9622.788908\n",
      "dtype: float64 predicted_revenue    7186.43358\n",
      "dtype: float64\n"
     ]
    }
   ],
   "source": [
    "print(pred.mean(), pred.median(), pred.std())"
   ]
  },
  {
   "cell_type": "code",
   "execution_count": 117,
   "metadata": {},
   "outputs": [
    {
     "data": {
      "text/plain": [
       "0.6820987654320988"
      ]
     },
     "execution_count": 117,
     "metadata": {},
     "output_type": "execute_result"
    }
   ],
   "source": [
    "count = 0 \n",
    "for val in _error:\n",
    "    if val < 3000:\n",
    "        count+=1\n",
    "accuracy = count/len(target_revenue)\n",
    "accuracy"
   ]
  },
  {
   "cell_type": "code",
   "execution_count": 118,
   "metadata": {},
   "outputs": [],
   "source": [
    "ratio = oof_train/target_revenue"
   ]
  },
  {
   "cell_type": "code",
   "execution_count": 120,
   "metadata": {},
   "outputs": [
    {
     "data": {
      "text/plain": [
       "(2.0901305377360035, 1.0858956167988916, 6.429972398061003)"
      ]
     },
     "execution_count": 120,
     "metadata": {},
     "output_type": "execute_result"
    }
   ],
   "source": [
    "ratio.mean(), ratio.median(), ratio.std()"
   ]
  },
  {
   "cell_type": "code",
   "execution_count": 44,
   "metadata": {},
   "outputs": [
    {
     "data": {
      "text/html": [
       "<div>\n",
       "<style scoped>\n",
       "    .dataframe tbody tr th:only-of-type {\n",
       "        vertical-align: middle;\n",
       "    }\n",
       "\n",
       "    .dataframe tbody tr th {\n",
       "        vertical-align: top;\n",
       "    }\n",
       "\n",
       "    .dataframe thead th {\n",
       "        text-align: right;\n",
       "    }\n",
       "</style>\n",
       "<table border=\"1\" class=\"dataframe\">\n",
       "  <thead>\n",
       "    <tr style=\"text-align: right;\">\n",
       "      <th></th>\n",
       "      <th>Unnamed: 0</th>\n",
       "      <th>ACCOMMODATION_CODE</th>\n",
       "      <th>ACCOMMODATION_TYPE</th>\n",
       "      <th>ACCO_DESCRIPTION</th>\n",
       "      <th>NUMBER_OF_PERSONS</th>\n",
       "      <th>BEDROOM_COUNT</th>\n",
       "      <th>BATHROOM_COUNT</th>\n",
       "      <th>HAS_WIFI</th>\n",
       "      <th>HAS_POOL</th>\n",
       "      <th>HAS_PRIVATE_POOL</th>\n",
       "      <th>HAS_SHARED_POOL</th>\n",
       "      <th>HAS_INDOOR_POOL</th>\n",
       "      <th>HAS_OUTDOOR_POOL</th>\n",
       "      <th>IS_DETACHED</th>\n",
       "      <th>HAS_SAUNA</th>\n",
       "      <th>HAS_JACUZZI</th>\n",
       "      <th>IS_SKIING</th>\n",
       "      <th>IS_ON_A_FARM</th>\n",
       "      <th>X2017.x</th>\n",
       "      <th>X2018.x</th>\n",
       "      <th>X2019.x</th>\n",
       "      <th>X2017.y</th>\n",
       "      <th>X2018.y</th>\n",
       "      <th>X2019.y</th>\n",
       "      <th>total2019</th>\n",
       "      <th>total2018</th>\n",
       "      <th>total2017</th>\n",
       "      <th>Total_HO</th>\n",
       "      <th>Total_BV</th>\n",
       "      <th>LATITUDE</th>\n",
       "      <th>LONGITUDE</th>\n",
       "      <th>max</th>\n",
       "      <th>ELEVATION</th>\n",
       "      <th>if_near_coast</th>\n",
       "      <th>distance_from_coast</th>\n",
       "      <th>nearest_coastal_longitude</th>\n",
       "      <th>nearest_coastal_latitude</th>\n",
       "      <th>COUNTRY</th>\n",
       "      <th>price</th>\n",
       "      <th>bookings_count</th>\n",
       "    </tr>\n",
       "  </thead>\n",
       "  <tbody>\n",
       "    <tr>\n",
       "      <td>4948</td>\n",
       "      <td>4948</td>\n",
       "      <td>DE-00009-71</td>\n",
       "      <td>1</td>\n",
       "      <td>Apartment</td>\n",
       "      <td>4</td>\n",
       "      <td>4</td>\n",
       "      <td>1</td>\n",
       "      <td>0</td>\n",
       "      <td>0</td>\n",
       "      <td>0</td>\n",
       "      <td>0</td>\n",
       "      <td>0</td>\n",
       "      <td>0</td>\n",
       "      <td>0</td>\n",
       "      <td>0</td>\n",
       "      <td>0</td>\n",
       "      <td>0</td>\n",
       "      <td>0</td>\n",
       "      <td>0.0</td>\n",
       "      <td>236.44</td>\n",
       "      <td>59.11</td>\n",
       "      <td>573.982</td>\n",
       "      <td>6713.399</td>\n",
       "      <td>0.0</td>\n",
       "      <td>59.11</td>\n",
       "      <td>6949.839</td>\n",
       "      <td>573.982</td>\n",
       "      <td>7287.381</td>\n",
       "      <td>295.55</td>\n",
       "      <td>53.96395</td>\n",
       "      <td>11.14516</td>\n",
       "      <td>6949.839</td>\n",
       "      <td>19.0</td>\n",
       "      <td>1</td>\n",
       "      <td>23.144025</td>\n",
       "      <td>11.483356</td>\n",
       "      <td>54.025562</td>\n",
       "      <td>DE</td>\n",
       "      <td>59.11</td>\n",
       "      <td>1.0</td>\n",
       "    </tr>\n",
       "  </tbody>\n",
       "</table>\n",
       "</div>"
      ],
      "text/plain": [
       "      Unnamed: 0 ACCOMMODATION_CODE  ACCOMMODATION_TYPE ACCO_DESCRIPTION  \\\n",
       "4948        4948        DE-00009-71                   1        Apartment   \n",
       "\n",
       "      NUMBER_OF_PERSONS  BEDROOM_COUNT  BATHROOM_COUNT  HAS_WIFI  HAS_POOL  \\\n",
       "4948                  4              4               1         0         0   \n",
       "\n",
       "      HAS_PRIVATE_POOL  HAS_SHARED_POOL  HAS_INDOOR_POOL  HAS_OUTDOOR_POOL  \\\n",
       "4948                 0                0                0                 0   \n",
       "\n",
       "      IS_DETACHED  HAS_SAUNA  HAS_JACUZZI  IS_SKIING  IS_ON_A_FARM  X2017.x  \\\n",
       "4948            0          0            0          0             0      0.0   \n",
       "\n",
       "      X2018.x  X2019.x  X2017.y   X2018.y  X2019.y  total2019  total2018  \\\n",
       "4948   236.44    59.11  573.982  6713.399      0.0      59.11   6949.839   \n",
       "\n",
       "      total2017  Total_HO  Total_BV  LATITUDE  LONGITUDE       max  ELEVATION  \\\n",
       "4948    573.982  7287.381    295.55  53.96395   11.14516  6949.839       19.0   \n",
       "\n",
       "      if_near_coast  distance_from_coast  nearest_coastal_longitude  \\\n",
       "4948              1            23.144025                  11.483356   \n",
       "\n",
       "      nearest_coastal_latitude COUNTRY  price  bookings_count  \n",
       "4948                 54.025562      DE  59.11             1.0  "
      ]
     },
     "execution_count": 44,
     "metadata": {},
     "output_type": "execute_result"
    }
   ],
   "source": [
    "property_df[property_df[\"ACCOMMODATION_CODE\"] == \"DE-00009-71\"]"
   ]
  },
  {
   "cell_type": "code",
   "execution_count": 45,
   "metadata": {},
   "outputs": [],
   "source": [
    "property_ids[\"pred/gbv\"] = ratio"
   ]
  },
  {
   "cell_type": "code",
   "execution_count": 46,
   "metadata": {},
   "outputs": [],
   "source": [
    "property_ids[\"error\"] = _error"
   ]
  },
  {
   "cell_type": "code",
   "execution_count": 81,
   "metadata": {},
   "outputs": [
    {
     "data": {
      "image/png": "[encoded data removed]",
      "text/plain": [
       "<Figure size 1440x360 with 1 Axes>"
      ]
     },
     "metadata": {
      "needs_background": "light"
     },
     "output_type": "display_data"
    }
   ],
   "source": [
    "plt.figure(figsize=(20,5))\n",
    "plt.plot(property_ids[\"ACCOMMODATION_CODE\"], property_ids[\"error\"])\n",
    "plt.xlabel(\"Property id\")\n",
    "plt.ylabel(\"prediction/GBV\")\n",
    "plt.xticks(property_ids[\"ACCOMMODATION_CODE\"][1::50],rotation=90)\n",
    "plt.title(\"Variation of Ratio of predicted revenue and actual revenue for each property.\")\n",
    "plt.ylim(0,20)\n",
    "plt.show()"
   ]
  },
  {
   "cell_type": "code",
   "execution_count": 48,
   "metadata": {},
   "outputs": [
    {
     "data": {
      "text/html": [
       "<div>\n",
       "<style scoped>\n",
       "    .dataframe tbody tr th:only-of-type {\n",
       "        vertical-align: middle;\n",
       "    }\n",
       "\n",
       "    .dataframe tbody tr th {\n",
       "        vertical-align: top;\n",
       "    }\n",
       "\n",
       "    .dataframe thead th {\n",
       "        text-align: right;\n",
       "    }\n",
       "</style>\n",
       "<table border=\"1\" class=\"dataframe\">\n",
       "  <thead>\n",
       "    <tr style=\"text-align: right;\">\n",
       "      <th></th>\n",
       "      <th>ACCOMMODATION_CODE</th>\n",
       "      <th>pred/gbv</th>\n",
       "      <th>error</th>\n",
       "    </tr>\n",
       "  </thead>\n",
       "  <tbody>\n",
       "    <tr>\n",
       "      <td>4948</td>\n",
       "      <td>DE-00009-71</td>\n",
       "      <td>112.389745</td>\n",
       "      <td>111.389745</td>\n",
       "    </tr>\n",
       "  </tbody>\n",
       "</table>\n",
       "</div>"
      ],
      "text/plain": [
       "     ACCOMMODATION_CODE    pred/gbv       error\n",
       "4948        DE-00009-71  112.389745  111.389745"
      ]
     },
     "execution_count": 48,
     "metadata": {},
     "output_type": "execute_result"
    }
   ],
   "source": [
    "property_ids[property_ids[\"error\"]> 100]"
   ]
  },
  {
   "cell_type": "code",
   "execution_count": 49,
   "metadata": {},
   "outputs": [
    {
     "data": {
      "text/html": [
       "<div>\n",
       "<style scoped>\n",
       "    .dataframe tbody tr th:only-of-type {\n",
       "        vertical-align: middle;\n",
       "    }\n",
       "\n",
       "    .dataframe tbody tr th {\n",
       "        vertical-align: top;\n",
       "    }\n",
       "\n",
       "    .dataframe thead th {\n",
       "        text-align: right;\n",
       "    }\n",
       "</style>\n",
       "<table border=\"1\" class=\"dataframe\">\n",
       "  <thead>\n",
       "    <tr style=\"text-align: right;\">\n",
       "      <th></th>\n",
       "      <th>pred/gbv</th>\n",
       "      <th>error</th>\n",
       "    </tr>\n",
       "  </thead>\n",
       "  <tbody>\n",
       "    <tr>\n",
       "      <td>0.00</td>\n",
       "      <td>-0.192210</td>\n",
       "      <td>-1.192210</td>\n",
       "    </tr>\n",
       "    <tr>\n",
       "      <td>0.10</td>\n",
       "      <td>0.536030</td>\n",
       "      <td>-0.463970</td>\n",
       "    </tr>\n",
       "    <tr>\n",
       "      <td>0.25</td>\n",
       "      <td>0.757582</td>\n",
       "      <td>-0.242418</td>\n",
       "    </tr>\n",
       "    <tr>\n",
       "      <td>0.50</td>\n",
       "      <td>1.085896</td>\n",
       "      <td>0.085896</td>\n",
       "    </tr>\n",
       "    <tr>\n",
       "      <td>0.75</td>\n",
       "      <td>1.731169</td>\n",
       "      <td>0.731169</td>\n",
       "    </tr>\n",
       "    <tr>\n",
       "      <td>1.00</td>\n",
       "      <td>112.389745</td>\n",
       "      <td>111.389745</td>\n",
       "    </tr>\n",
       "  </tbody>\n",
       "</table>\n",
       "</div>"
      ],
      "text/plain": [
       "        pred/gbv       error\n",
       "0.00   -0.192210   -1.192210\n",
       "0.10    0.536030   -0.463970\n",
       "0.25    0.757582   -0.242418\n",
       "0.50    1.085896    0.085896\n",
       "0.75    1.731169    0.731169\n",
       "1.00  112.389745  111.389745"
      ]
     },
     "execution_count": 49,
     "metadata": {},
     "output_type": "execute_result"
    }
   ],
   "source": [
    "property_ids.quantile([0, .1, .25, .5, .75, 1], axis=0)"
   ]
  },
  {
   "cell_type": "code",
   "execution_count": 52,
   "metadata": {},
   "outputs": [
    {
     "data": {
      "text/plain": [
       "<matplotlib.axes._subplots.AxesSubplot at 0x19e186338c8>"
      ]
     },
     "execution_count": 52,
     "metadata": {},
     "output_type": "execute_result"
    },
    {
     "data": {
      "image/png": "[encoded data removed]",
      "text/plain": [
       "<Figure size 720x360 with 1 Axes>"
      ]
     },
     "metadata": {
      "needs_background": "light"
     },
     "output_type": "display_data"
    }
   ],
   "source": [
    "plt.figure(figsize=(10,5))\n",
    "plt.axis([-1,1, 0, 100])\n",
    "_error.hist(bins=1000)"
   ]
  },
  {
   "cell_type": "code",
   "execution_count": null,
   "metadata": {},
   "outputs": [],
   "source": [
    "0.2*target_revenue.mean()"
   ]
  },
  {
   "cell_type": "code",
   "execution_count": 34,
   "metadata": {},
   "outputs": [],
   "source": [
    "bins = np.linspace(-10, 10, 100)"
   ]
  },
  {
   "cell_type": "code",
   "execution_count": 71,
   "metadata": {},
   "outputs": [
    {
     "data": {
      "image/png": "[encoded data removed]",
      "text/plain": [
       "<Figure size 720x360 with 1 Axes>"
      ]
     },
     "metadata": {
      "needs_background": "light"
     },
     "output_type": "display_data"
    }
   ],
   "source": [
    "plt.figure(figsize=(10,5))\n",
    "plt.hist(oof_train, bins=100, alpha=0.5, label='predicted')\n",
    "plt.hist(target_revenue, bins=100, alpha=0.5, label='actual revenue')\n",
    "plt.legend(loc='upper right')\n",
    "plt.title(\"Overlap of actual vs predicted revenue of properties\")\n",
    "plt.show()"
   ]
  },
  {
   "cell_type": "code",
   "execution_count": null,
   "metadata": {},
   "outputs": [],
   "source": []
  }
 ],
 "metadata": {
  "kernelspec": {
   "display_name": "Python 3",
   "language": "python",
   "name": "python3"
  },
  "language_info": {
   "codemirror_mode": {
    "name": "ipython",
    "version": 3
   },
   "file_extension": ".py",
   "mimetype": "text/x-python",
   "name": "python",
   "nbconvert_exporter": "python",
   "pygments_lexer": "ipython3",
   "version": "3.7.4"
  }
 },
 "nbformat": 4,
 "nbformat_minor": 4
}
