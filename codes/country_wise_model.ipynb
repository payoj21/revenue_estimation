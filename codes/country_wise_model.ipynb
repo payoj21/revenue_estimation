{
 "cells": [
  {
   "cell_type": "code",
   "execution_count": 1,
   "metadata": {},
   "outputs": [],
   "source": [
    "import pandas as pd\n",
    "import numpy as np\n",
    "import datetime"
   ]
  },
  {
   "cell_type": "code",
   "execution_count": 2,
   "metadata": {},
   "outputs": [],
   "source": [
    "# from random import shuffle\n",
    "from random import seed\n",
    "seed(20)"
   ]
  },
  {
   "cell_type": "code",
   "execution_count": 3,
   "metadata": {},
   "outputs": [],
   "source": [
    "from catboost import CatBoostRegressor, Pool, cv\n",
    "from sklearn.metrics import accuracy_score\n",
    "from sklearn.model_selection import train_test_split\n",
    "from matplotlib import pyplot as plt\n",
    "import seaborn as sns"
   ]
  },
  {
   "cell_type": "code",
   "execution_count": 4,
   "metadata": {},
   "outputs": [],
   "source": [
    "class read_data():\n",
    "    def read_data_files():\n",
    "        bookings = pd.read_csv(r\"C:\\Users\\payoj.jain/Documents/projects/Europe Revenue estimation/data/Booking_level_data.csv\")\n",
    "        date_to_week = pd.read_csv(r\"C:\\Users\\payoj.jain/Documents/projects/Europe Revenue estimation/data/weeks_start_date.csv\")\n",
    "        accommodations = pd.read_csv(r\"C:\\Users\\payoj.jain/Documents/projects/Europe Revenue estimation/data/X_data.csv\")\n",
    "        weekly_availability = pd.read_csv(r\"C:\\Users\\payoj.jain/Documents/projects/Europe Revenue estimation/data/week_wise_availability.csv\")\n",
    "        return bookings, date_to_week, accommodations, weekly_availability\n",
    "    \n",
    "    def read_model_data(country):\n",
    "        return pd.read_csv(r\"C:\\Users\\payoj.jain/Documents/projects/Europe Revenue estimation/data/\"+country+\"/model_data.csv\")\n",
    "    \n",
    "    def read_corrupt_data(country):\n",
    "        return pd.read_csv(r\"C:\\Users\\payoj.jain/Documents/projects/Europe Revenue estimation/data/\"+country+\"/corrupt_data.csv\")\n",
    "    \n",
    "    def read_cleaned_data(country):\n",
    "        return pd.read_csv(r\"C:\\Users\\payoj.jain/Documents/projects/Europe Revenue estimation/data/\"+country+\"/cleaned_data.csv\")"
   ]
  },
  {
   "cell_type": "code",
   "execution_count": null,
   "metadata": {},
   "outputs": [],
   "source": [
    "class write_data():\n",
    "    def write_model_data(model_data, country):\n",
    "        model_data.to_csv(r\"C:\\Users\\payoj.jain/Documents/projects/Europe Revenue estimation/data/\"+country+\"/model_data.csv\")\n",
    "    \n",
    "    def write_corrupt_data(corrupted_data, country):\n",
    "        corrupted_data.to_csv(r\"C:\\Users\\payoj.jain/Documents/projects/Europe Revenue estimation/data/\"+country+\"/corrupt_data.csv\")\n",
    "        \n",
    "    def write_cleaned_data(cleaned_data, country):\n",
    "        cleaned_data.to_csv(r\"C:\\Users\\payoj.jain/Documents/projects/Europe Revenue estimation/data/\"+country+\"/cleaned_data.csv\")"
   ]
  },
  {
   "cell_type": "code",
   "execution_count": 39,
   "metadata": {},
   "outputs": [],
   "source": [
    "class prepare_data():\n",
    "    def __init__(self, country, bookings, date_to_week, accommodations, weekly_availability):\n",
    "        self.country = country\n",
    "        self.bookings = bookings\n",
    "        self.date_to_week = date_to_week\n",
    "        self.weekly_availability = weekly_availability\n",
    "        self.accommodations = accommodations\n",
    "        \n",
    "        self.country_daywise_bookings = pd.DataFrame(columns=[\"ACCOMMODATION_CODE\", \"BOOKING_ID\", \"arrivaldate\", \"departuredate\",\"bookingdate\", \"date\", \"revenue\"])\n",
    "        self.country_daywise_week = pd.DataFrame(columns=[\"year\", \"week\", \"week_start\", \"week_end\",\"date\"])\n",
    "       \n",
    "    \n",
    "    def convert_to_datetime(self):\n",
    "        self.bookings['arrivaldate'] = pd.to_datetime(self.bookings['arrivaldate'])\n",
    "        self.bookings['departuredate'] = pd.to_datetime(self.bookings['departuredate'])\n",
    "        self.bookings['bookingdate'] = pd.to_datetime(self.bookings['bookingdate'])\n",
    "        self.date_to_week[\"WK_START\"] = pd.to_datetime(self.date_to_week[\"WK_START\"])\n",
    "        return self\n",
    "    \n",
    "    def add_week_end(self):\n",
    "        self.date_to_week[\"WK_END\"] = self.date_to_week[\"WK_START\"] + datetime.timedelta(7)\n",
    "        return self\n",
    "    \n",
    "    def country_bookings(self):\n",
    "        self.country_bookings = self.bookings[(self.bookings[\"ACCOMMODATION_CODE\"].str.contains(self.country))&(self.bookings[\"BOOKING_STATUS\"]==\"BOOKING\")]\n",
    "        return self\n",
    "    \n",
    "    def prepare_country_daywise_bookings(self):\n",
    "        for booking in self.country_bookings.values:\n",
    "            days_of_bookings = int((booking[5]-booking[4])/np.timedelta64(1,'D'))\n",
    "            rev_per_day = booking[7]/days_of_bookings\n",
    "            for i in range(days_of_bookings):\n",
    "                date = booking[4] + datetime.timedelta(i)\n",
    "                day_booking = pd.DataFrame([(booking[0], booking[1], booking[4], booking[5], booking[6], date, rev_per_day)], columns=[\"ACCOMMODATION_CODE\", \"BOOKING_ID\", \"arrivaldate\", \"departuredate\",\"bookingdate\", \"date\", \"revenue\"])\n",
    "                self.country_daywise_bookings = self.country_daywise_bookings.append(day_booking)\n",
    "        self.country_daywise_bookings = self.country_daywise_bookings.reset_index().drop([\"index\"], axis=1)\n",
    "        return self\n",
    "    \n",
    "    def prepare_country_daywise_week(self):\n",
    "        for week in self.date_to_week.values:\n",
    "            days_of_booking = int(((week[3]-week[2]) / np.timedelta64(1, 'D')))\n",
    "        #     rev_per_day = booking[7]/days_of_booking\n",
    "            for i in range(days_of_booking):\n",
    "                count+= 1\n",
    "                date = week[2] + datetime.timedelta(i)\n",
    "                week_df = pd.DataFrame([(week[0], week[1], week[2], week[3], date)], columns=[\"year\", \"week\", \"week_start\", \"week_end\",\"date\"])\n",
    "                self.country_daywise_week = self.country_daywise_week.append(week_df)\n",
    "        self.country_daywise_week = self.country_daywise_week.reset_index().drop([\"index\"], axis=1)\n",
    "        return self\n",
    "    \n",
    "    def merge_country_daywise_boookings_with_week(self):\n",
    "        self.country_daywise_bookings = pd.merge(self.country_daywise_bookings, self.country_daywise_week, on=\"date\", how=\"left\")\n",
    "        return self\n",
    "        \n",
    "    def get_country_weekly_revenue(self):\n",
    "        country_weekly_bookings = self.country_daywise_bookings.groupby([\"year\",\"week\",\"ACCOMMODATION_CODE\"]).sum()\n",
    "        country_weekly_bookings = country_weekly_bookings.reset_index()\n",
    "        return country_weekly_bookings\n",
    "    \n",
    "    def get_country_weekly_occupancy(self):\n",
    "        country_weekly_occupancy = self.country_daywise_bookings.groupby([\"year\",\"week\",\"ACCOMMODATION_CODE\"]).count()[\"date\"]\n",
    "        country_weekly_occupancy = country_weekly_occupancy.reset_index()\n",
    "        country_weekly_occupancy = country_weekly_occupancy.rename(columns={'date':'#_days_booked'})\n",
    "        return country_weekly_occupancy\n",
    "    \n",
    "    def merge_country_weekly_revenue_and_occupancy(country_weekly_bookings, country_weekly_occupancy):\n",
    "        country_weekly_revenue_occupancy = pd.merge(country_weekly_bookings, country_weekly_occupancy, on=[\"year\",\"week\",\"ACCOMMODATION_CODE\"], how=\"left\")\n",
    "        return country_weekly_revenue_occupancy\n",
    "    \n",
    "    def get_country_availability(self):\n",
    "        country_weekly_availability = self.weekly_availability[self.weekly_availability[\"ACCOMMODATION_CODE\"].str.contains(self.country)]\n",
    "        return country_weekly_availability\n",
    "    \n",
    "    def merge_country_bookings_with_weekly_availability(country_weekly_revenue_occupancy, country_weekly_availability):\n",
    "        country_bookings_with_availability = pd.merge(country_weekly_availability, country_weekly_revenue_occupancy, on=[\"year\", \"week\", \"ACCOMMODATION_CODE\"], how=\"outer\")\n",
    "        country_bookings_with_availability = country_bookings_with_availability.fillna(0)\n",
    "        return country_bookings_with_availability\n",
    "    \n",
    "    def get_country_accommodations(self):\n",
    "        return self.accommodations[self.accommodations[\"COUNTRY\"] == self.country]\n",
    "    \n",
    "    def merge_accommodations_with_their_weekly_revenue(country_accommodations, country_bookings_with_availability):\n",
    "        data = pd.merge(country_bookings_with_availability, country_accommodations, on=\"ACCOMMODATION_CODE\", how=\"left\")\n",
    "        return data\n",
    "    \n",
    "    def find_corrupt_data(data):\n",
    "        corrupted_data = data[(data[\"availablity_fin\"] == 0) & ((data[\"occupancy\"] > 0) | (data[\"revenue\"] > 0))]\n",
    "        corrupted_data = pd.concat([corrupted_data,data[(data[\"revenue\"] > data[\"total2019\"] + data[\"total2018\"]) & (data[\"year\"] < 2020)]], axis=0)\n",
    "        corrupted_data = pd.concat([corrupted_data, data[data[\"availablity_fin\"].isnull()]], axis=0)\n",
    "        corrupted_data = pd.concat([corrupted_data, data[data[\"ACCOMMODATION_TYPE\"].isnull()]], axis=0)\n",
    "        corrupted_data = corrupted_data.reset_index()\n",
    "        return corrupted_data\n",
    "    \n",
    "    def get_cleaned_data(model_data, corrupted_data):\n",
    "        cleaned_data = model_data.drop(model_data.index[corrupted_data.index])\n",
    "        cleaned_data = cleaned_data.reset_index().drop([\"Unnamed: 0\", \"index\"], axis=0)\n",
    "        cleaned_data[\"distance_from_coast\"] = cleaned_data[\"distance_from_coast\"].fillna(-999)\n",
    "        return cleaned_data"
   ]
  },
  {
   "cell_type": "code",
   "execution_count": 40,
   "metadata": {},
   "outputs": [],
   "source": [
    "class DataHandler:\n",
    "    def __init__(self, cleaned_data):\n",
    "        self.data = cleaned_data\n",
    "        self.threshold = 0.8\n",
    "    \n",
    "    def get_model_data():\n",
    "        self.data = self.data.drop(self.data.index[self.data[\"availablity_fin\"]==0])\n",
    "        self.data = self.data[self.data[\"year\"]<2020]\n",
    "        return self\n",
    "        \n",
    "        return self\n",
    "    def get_features():\n",
    "        return [\"week\",\"year\",\"availablity_fin\",\"ACCOMMODATION_TYPE\",\"NUMBER_OF_PERSONS\",'BEDROOM_COUNT', 'BATHROOM_COUNT', 'HAS_WIFI',\n",
    "            'HAS_POOL', 'LATITUDE', 'LONGITUDE', 'ELEVATION','if_near_coast', 'distance_from_coast', 'price']\n",
    "    \n",
    "    def get_output():\n",
    "        return [\"revenue\", \"occupancy\"]\n",
    "    \n",
    "    def get_unique_accommodations():\n",
    "        return self.data[\"ACCOMMODATION_CODE\"].unique()\n",
    "    \n",
    "    def split_train_test(unique_accommodations):\n",
    "        indices = np.random.rand(len(unique_accommodations), self.threshold)\n",
    "        train_accommodations = unique_accommodations[indices]\n",
    "        test_accommodations = unique_accommodations[~indices]\n",
    "        train = self.data.merge(pd.DataFrame(set(train_accommodations).intersection(self.data[\"ACCOMMODATION_CODE\"].tolist()), columns=[\"ACCOMMODATION_CODE\"]), on=[\"ACCOMMODATION_CODE\"], how=\"inner\")\n",
    "        test = self.data.merge(pd.DataFrame(set(test_accommodations).intersection(self.data[\"ACCOMMODATION_CODE\"].tolist()), columns=[\"ACCOMMODATION_CODE\"]), on=[\"ACCOMMODATION_CODE\"], how=\"inner\")        \n",
    "        return train, test\n",
    "    \n",
    "    \n",
    "    "
   ]
  },
  {
   "cell_type": "code",
   "execution_count": 41,
   "metadata": {},
   "outputs": [],
   "source": [
    "class Model():\n",
    "    def __init__(self, country, loss_func, iteration, lr, reg_lambda, train, test, features, output, convert_dict):\n",
    "        self.country = country\n",
    "        self.iter = iteration\n",
    "        self.reg_lambda = reg_lambda\n",
    "        self.train = train\n",
    "        self.test = test\n",
    "        self.features = features\n",
    "        self.output = output\n",
    "        self.convert_dict = convert_dict\n",
    "        self.loss = loss_func\n",
    "        self.depth = tree_depth\n",
    "        self.learning_rate = lr\n",
    "        \n",
    "        self.seed = 2019\n",
    "        self.threshold = 0.8\n",
    "        \n",
    "        self.model = CatBoostRegressor(\n",
    "            loss_function=self.loss,\n",
    "            iterations=self.iter,\n",
    "            depth=self.depth,\n",
    "            random_seed=self.seed,\n",
    "            logging_level=\"Silent\",\n",
    "            learning_rate=self.learning_rate,\n",
    "            l2_leaf_reg=self.reg_lambda,\n",
    "            best_model_min_trees=True\n",
    "        )\n",
    "        \n",
    "    \n",
    "    def separate_X_Y(train, test):\n",
    "        return train[self.features], train[self.output], test[self.features], test[self.output]\n",
    "    \n",
    "    def get_categorical_feature_indices(train_X):\n",
    "        return np.where(train_X.dtypes != np.float64)[0]\n",
    "    \n",
    "    def split_train_validation_set(train_X, train_Y):\n",
    "        X_train, X_validation, y_train, y_validation = train_test_split(train_X, train_Y, train_size=self.threshold, random_state=42)\n",
    "        return X_train, X_validation, y_train, y_validation\n",
    "    \n",
    "    def fit(self, X_train, y_train, X_validation, y_validation):\n",
    "        self.model.fit(\n",
    "            X_train,\n",
    "            y_train,\n",
    "            cat_features=self.categorical_features_indices,\n",
    "            eval_set=(X_validation, y_validation)\n",
    "        )\n",
    "        return self\n",
    "    \n",
    "    def predict(self, test_X):\n",
    "        return self.model.predict(test_X)\n",
    "    \n",
    "    def save_model(self):\n",
    "        self.model.save_model(fname=r\"C:\\Users\\payoj.jain/Documents/projects/Europe Revenue estimation/models/\"+country+\"/model.json\",\n",
    "                             format=\"json\",\n",
    "                             export_parameters=None,\n",
    "                             pool=self.train)\n",
    "        \n",
    "    def evaluate(self, test_Y, predicted_Y):\n",
    "        error = predicted_Y - test_Y\n",
    "        error_percent = np.array([])\n",
    "        predicted_y_ratio = np.array([])\n",
    "        for i, ele in enumerate(predicted_Y):\n",
    "            y = test_Y[self.output].values[i]\n",
    "            if y != 0:\n",
    "                error_percent = np.append(error_percent, (ele-y)/y)\n",
    "                predicted_y_ratio = np.append(predicted_y_ratio, ele/y)\n",
    "            else:\n",
    "                error_percent = np.append(error_percent, -1)\n",
    "                predicted_y_ratio = np.append(predicted_y_ratio, -1)\n",
    "        \n",
    "        error_rmse = math.sqrt((error**2).sum())\n",
    "        return error, error_rmse, error_percent, predicted_y_ratio\n",
    "\n",
    "    #     def train_model(self, model, train_X, train_Y, categorical_features_indices):\n",
    "#         cv_params = model.get_params()\n",
    "#         cv_data = cv(\n",
    "#             Pool(train_X, train_Y, cat_features=categorical_features_indices),\n",
    "#             cv_params,\n",
    "#             plot=True\n",
    "#         )\n",
    "        \n",
    "#         return cv_data"
   ]
  },
  {
   "cell_type": "code",
   "execution_count": 42,
   "metadata": {},
   "outputs": [],
   "source": [
    "if __name__ == '__main__':\n",
    "#     countries = [\"DE\",\"IT\",\"FR\"]\n",
    "    country = \"DE\"\n",
    "    bookings, date_to_week, accommodations, weekly_availability = read_data.read_data_files()\n",
    "#     for country in countries:\n",
    "    data_ = prepare_data(country, bookings, date_to_week, accommodations, weekly_availability)"
   ]
  },
  {
   "cell_type": "code",
   "execution_count": 43,
   "metadata": {},
   "outputs": [
    {
     "data": {
      "text/plain": [
       "<__main__.prepare_data at 0x23a1a96be08>"
      ]
     },
     "execution_count": 43,
     "metadata": {},
     "output_type": "execute_result"
    }
   ],
   "source": [
    "data_.convert_to_datetime()"
   ]
  },
  {
   "cell_type": "code",
   "execution_count": 44,
   "metadata": {},
   "outputs": [
    {
     "data": {
      "text/plain": [
       "<__main__.prepare_data at 0x23a1a96be08>"
      ]
     },
     "execution_count": 44,
     "metadata": {},
     "output_type": "execute_result"
    }
   ],
   "source": [
    "data_.add_week_end()"
   ]
  },
  {
   "cell_type": "code",
   "execution_count": 45,
   "metadata": {},
   "outputs": [
    {
     "data": {
      "text/plain": [
       "<__main__.prepare_data at 0x23a1a96be08>"
      ]
     },
     "execution_count": 45,
     "metadata": {},
     "output_type": "execute_result"
    }
   ],
   "source": [
    "data_.country_bookings()"
   ]
  },
  {
   "cell_type": "code",
   "execution_count": 46,
   "metadata": {},
   "outputs": [
    {
     "ename": "KeyboardInterrupt",
     "evalue": "",
     "output_type": "error",
     "traceback": [
      "\u001b[1;31m---------------------------------------------------------------------------\u001b[0m",
      "\u001b[1;31mKeyboardInterrupt\u001b[0m                         Traceback (most recent call last)",
      "\u001b[1;32m<ipython-input-46-b96fdbdafb39>\u001b[0m in \u001b[0;36m<module>\u001b[1;34m\u001b[0m\n\u001b[1;32m----> 1\u001b[1;33m \u001b[0mdata_\u001b[0m\u001b[1;33m.\u001b[0m\u001b[0mprepare_country_daywise_bookings\u001b[0m\u001b[1;33m(\u001b[0m\u001b[1;33m)\u001b[0m\u001b[1;33m\u001b[0m\u001b[1;33m\u001b[0m\u001b[0m\n\u001b[0m",
      "\u001b[1;32m<ipython-input-39-32d3739858d4>\u001b[0m in \u001b[0;36mprepare_country_daywise_bookings\u001b[1;34m(self)\u001b[0m\n\u001b[0;32m     33\u001b[0m                 \u001b[0mdate\u001b[0m \u001b[1;33m=\u001b[0m \u001b[0mbooking\u001b[0m\u001b[1;33m[\u001b[0m\u001b[1;36m4\u001b[0m\u001b[1;33m]\u001b[0m \u001b[1;33m+\u001b[0m \u001b[0mdatetime\u001b[0m\u001b[1;33m.\u001b[0m\u001b[0mtimedelta\u001b[0m\u001b[1;33m(\u001b[0m\u001b[0mi\u001b[0m\u001b[1;33m)\u001b[0m\u001b[1;33m\u001b[0m\u001b[1;33m\u001b[0m\u001b[0m\n\u001b[0;32m     34\u001b[0m                 \u001b[0mday_booking\u001b[0m \u001b[1;33m=\u001b[0m \u001b[0mpd\u001b[0m\u001b[1;33m.\u001b[0m\u001b[0mDataFrame\u001b[0m\u001b[1;33m(\u001b[0m\u001b[1;33m[\u001b[0m\u001b[1;33m(\u001b[0m\u001b[0mbooking\u001b[0m\u001b[1;33m[\u001b[0m\u001b[1;36m0\u001b[0m\u001b[1;33m]\u001b[0m\u001b[1;33m,\u001b[0m \u001b[0mbooking\u001b[0m\u001b[1;33m[\u001b[0m\u001b[1;36m1\u001b[0m\u001b[1;33m]\u001b[0m\u001b[1;33m,\u001b[0m \u001b[0mbooking\u001b[0m\u001b[1;33m[\u001b[0m\u001b[1;36m4\u001b[0m\u001b[1;33m]\u001b[0m\u001b[1;33m,\u001b[0m \u001b[0mbooking\u001b[0m\u001b[1;33m[\u001b[0m\u001b[1;36m5\u001b[0m\u001b[1;33m]\u001b[0m\u001b[1;33m,\u001b[0m \u001b[0mbooking\u001b[0m\u001b[1;33m[\u001b[0m\u001b[1;36m6\u001b[0m\u001b[1;33m]\u001b[0m\u001b[1;33m,\u001b[0m \u001b[0mdate\u001b[0m\u001b[1;33m,\u001b[0m \u001b[0mrev_per_day\u001b[0m\u001b[1;33m)\u001b[0m\u001b[1;33m]\u001b[0m\u001b[1;33m,\u001b[0m \u001b[0mcolumns\u001b[0m\u001b[1;33m=\u001b[0m\u001b[1;33m[\u001b[0m\u001b[1;34m\"ACCOMMODATION_CODE\"\u001b[0m\u001b[1;33m,\u001b[0m \u001b[1;34m\"BOOKING_ID\"\u001b[0m\u001b[1;33m,\u001b[0m \u001b[1;34m\"arrivaldate\"\u001b[0m\u001b[1;33m,\u001b[0m \u001b[1;34m\"departuredate\"\u001b[0m\u001b[1;33m,\u001b[0m\u001b[1;34m\"bookingdate\"\u001b[0m\u001b[1;33m,\u001b[0m \u001b[1;34m\"date\"\u001b[0m\u001b[1;33m,\u001b[0m \u001b[1;34m\"revenue\"\u001b[0m\u001b[1;33m]\u001b[0m\u001b[1;33m)\u001b[0m\u001b[1;33m\u001b[0m\u001b[1;33m\u001b[0m\u001b[0m\n\u001b[1;32m---> 35\u001b[1;33m                 \u001b[0mself\u001b[0m\u001b[1;33m.\u001b[0m\u001b[0mcountry_daywise_bookings\u001b[0m \u001b[1;33m=\u001b[0m \u001b[0mself\u001b[0m\u001b[1;33m.\u001b[0m\u001b[0mcountry_daywise_bookings\u001b[0m\u001b[1;33m.\u001b[0m\u001b[0mappend\u001b[0m\u001b[1;33m(\u001b[0m\u001b[0mday_booking\u001b[0m\u001b[1;33m)\u001b[0m\u001b[1;33m\u001b[0m\u001b[1;33m\u001b[0m\u001b[0m\n\u001b[0m\u001b[0;32m     36\u001b[0m         \u001b[0mself\u001b[0m\u001b[1;33m.\u001b[0m\u001b[0mcountry_daywise_bookings\u001b[0m \u001b[1;33m=\u001b[0m \u001b[0mself\u001b[0m\u001b[1;33m.\u001b[0m\u001b[0mcountry_daywise_bookings\u001b[0m\u001b[1;33m.\u001b[0m\u001b[0mreset_index\u001b[0m\u001b[1;33m(\u001b[0m\u001b[1;33m)\u001b[0m\u001b[1;33m.\u001b[0m\u001b[0mdrop\u001b[0m\u001b[1;33m(\u001b[0m\u001b[1;33m[\u001b[0m\u001b[1;34m\"index\"\u001b[0m\u001b[1;33m]\u001b[0m\u001b[1;33m,\u001b[0m \u001b[0maxis\u001b[0m\u001b[1;33m=\u001b[0m\u001b[1;36m1\u001b[0m\u001b[1;33m)\u001b[0m\u001b[1;33m\u001b[0m\u001b[1;33m\u001b[0m\u001b[0m\n\u001b[0;32m     37\u001b[0m         \u001b[1;32mreturn\u001b[0m \u001b[0mself\u001b[0m\u001b[1;33m\u001b[0m\u001b[1;33m\u001b[0m\u001b[0m\n",
      "\u001b[1;32m~\\AppData\\Local\\Continuum\\anaconda3\\lib\\site-packages\\pandas\\core\\frame.py\u001b[0m in \u001b[0;36mappend\u001b[1;34m(self, other, ignore_index, verify_integrity, sort)\u001b[0m\n\u001b[0;32m   7121\u001b[0m             \u001b[0mignore_index\u001b[0m\u001b[1;33m=\u001b[0m\u001b[0mignore_index\u001b[0m\u001b[1;33m,\u001b[0m\u001b[1;33m\u001b[0m\u001b[1;33m\u001b[0m\u001b[0m\n\u001b[0;32m   7122\u001b[0m             \u001b[0mverify_integrity\u001b[0m\u001b[1;33m=\u001b[0m\u001b[0mverify_integrity\u001b[0m\u001b[1;33m,\u001b[0m\u001b[1;33m\u001b[0m\u001b[1;33m\u001b[0m\u001b[0m\n\u001b[1;32m-> 7123\u001b[1;33m             \u001b[0msort\u001b[0m\u001b[1;33m=\u001b[0m\u001b[0msort\u001b[0m\u001b[1;33m,\u001b[0m\u001b[1;33m\u001b[0m\u001b[1;33m\u001b[0m\u001b[0m\n\u001b[0m\u001b[0;32m   7124\u001b[0m         )\n\u001b[0;32m   7125\u001b[0m \u001b[1;33m\u001b[0m\u001b[0m\n",
      "\u001b[1;32m~\\AppData\\Local\\Continuum\\anaconda3\\lib\\site-packages\\pandas\\core\\reshape\\concat.py\u001b[0m in \u001b[0;36mconcat\u001b[1;34m(objs, axis, join, join_axes, ignore_index, keys, levels, names, verify_integrity, sort, copy)\u001b[0m\n\u001b[0;32m    256\u001b[0m     )\n\u001b[0;32m    257\u001b[0m \u001b[1;33m\u001b[0m\u001b[0m\n\u001b[1;32m--> 258\u001b[1;33m     \u001b[1;32mreturn\u001b[0m \u001b[0mop\u001b[0m\u001b[1;33m.\u001b[0m\u001b[0mget_result\u001b[0m\u001b[1;33m(\u001b[0m\u001b[1;33m)\u001b[0m\u001b[1;33m\u001b[0m\u001b[1;33m\u001b[0m\u001b[0m\n\u001b[0m\u001b[0;32m    259\u001b[0m \u001b[1;33m\u001b[0m\u001b[0m\n\u001b[0;32m    260\u001b[0m \u001b[1;33m\u001b[0m\u001b[0m\n",
      "\u001b[1;32m~\\AppData\\Local\\Continuum\\anaconda3\\lib\\site-packages\\pandas\\core\\reshape\\concat.py\u001b[0m in \u001b[0;36mget_result\u001b[1;34m(self)\u001b[0m\n\u001b[0;32m    471\u001b[0m \u001b[1;33m\u001b[0m\u001b[0m\n\u001b[0;32m    472\u001b[0m             new_data = concatenate_block_managers(\n\u001b[1;32m--> 473\u001b[1;33m                 \u001b[0mmgrs_indexers\u001b[0m\u001b[1;33m,\u001b[0m \u001b[0mself\u001b[0m\u001b[1;33m.\u001b[0m\u001b[0mnew_axes\u001b[0m\u001b[1;33m,\u001b[0m \u001b[0mconcat_axis\u001b[0m\u001b[1;33m=\u001b[0m\u001b[0mself\u001b[0m\u001b[1;33m.\u001b[0m\u001b[0maxis\u001b[0m\u001b[1;33m,\u001b[0m \u001b[0mcopy\u001b[0m\u001b[1;33m=\u001b[0m\u001b[0mself\u001b[0m\u001b[1;33m.\u001b[0m\u001b[0mcopy\u001b[0m\u001b[1;33m\u001b[0m\u001b[1;33m\u001b[0m\u001b[0m\n\u001b[0m\u001b[0;32m    474\u001b[0m             )\n\u001b[0;32m    475\u001b[0m             \u001b[1;32mif\u001b[0m \u001b[1;32mnot\u001b[0m \u001b[0mself\u001b[0m\u001b[1;33m.\u001b[0m\u001b[0mcopy\u001b[0m\u001b[1;33m:\u001b[0m\u001b[1;33m\u001b[0m\u001b[1;33m\u001b[0m\u001b[0m\n",
      "\u001b[1;32m~\\AppData\\Local\\Continuum\\anaconda3\\lib\\site-packages\\pandas\\core\\internals\\managers.py\u001b[0m in \u001b[0;36mconcatenate_block_managers\u001b[1;34m(mgrs_indexers, axes, concat_axis, copy)\u001b[0m\n\u001b[0;32m   2048\u001b[0m         \u001b[1;32melif\u001b[0m \u001b[0mis_uniform_join_units\u001b[0m\u001b[1;33m(\u001b[0m\u001b[0mjoin_units\u001b[0m\u001b[1;33m)\u001b[0m\u001b[1;33m:\u001b[0m\u001b[1;33m\u001b[0m\u001b[1;33m\u001b[0m\u001b[0m\n\u001b[0;32m   2049\u001b[0m             b = join_units[0].block.concat_same_type(\n\u001b[1;32m-> 2050\u001b[1;33m                 \u001b[1;33m[\u001b[0m\u001b[0mju\u001b[0m\u001b[1;33m.\u001b[0m\u001b[0mblock\u001b[0m \u001b[1;32mfor\u001b[0m \u001b[0mju\u001b[0m \u001b[1;32min\u001b[0m \u001b[0mjoin_units\u001b[0m\u001b[1;33m]\u001b[0m\u001b[1;33m,\u001b[0m \u001b[0mplacement\u001b[0m\u001b[1;33m=\u001b[0m\u001b[0mplacement\u001b[0m\u001b[1;33m\u001b[0m\u001b[1;33m\u001b[0m\u001b[0m\n\u001b[0m\u001b[0;32m   2051\u001b[0m             )\n\u001b[0;32m   2052\u001b[0m         \u001b[1;32melse\u001b[0m\u001b[1;33m:\u001b[0m\u001b[1;33m\u001b[0m\u001b[1;33m\u001b[0m\u001b[0m\n",
      "\u001b[1;32m~\\AppData\\Local\\Continuum\\anaconda3\\lib\\site-packages\\pandas\\core\\internals\\blocks.py\u001b[0m in \u001b[0;36mconcat_same_type\u001b[1;34m(self, to_concat, placement)\u001b[0m\n\u001b[0;32m    361\u001b[0m         \"\"\"\n\u001b[0;32m    362\u001b[0m         values = self._concatenator(\n\u001b[1;32m--> 363\u001b[1;33m             \u001b[1;33m[\u001b[0m\u001b[0mblk\u001b[0m\u001b[1;33m.\u001b[0m\u001b[0mvalues\u001b[0m \u001b[1;32mfor\u001b[0m \u001b[0mblk\u001b[0m \u001b[1;32min\u001b[0m \u001b[0mto_concat\u001b[0m\u001b[1;33m]\u001b[0m\u001b[1;33m,\u001b[0m \u001b[0maxis\u001b[0m\u001b[1;33m=\u001b[0m\u001b[0mself\u001b[0m\u001b[1;33m.\u001b[0m\u001b[0mndim\u001b[0m \u001b[1;33m-\u001b[0m \u001b[1;36m1\u001b[0m\u001b[1;33m\u001b[0m\u001b[1;33m\u001b[0m\u001b[0m\n\u001b[0m\u001b[0;32m    364\u001b[0m         )\n\u001b[0;32m    365\u001b[0m         return self.make_block_same_class(\n",
      "\u001b[1;31mKeyboardInterrupt\u001b[0m: "
     ]
    }
   ],
   "source": [
    "data_.prepare_country_daywise_bookings()"
   ]
  },
  {
   "cell_type": "code",
   "execution_count": 37,
   "metadata": {},
   "outputs": [
    {
     "data": {
      "text/plain": [
       "<bound method prepare_data.prepare_country_daywise_week of <__main__.prepare_data object at 0x0000023A030CC448>>"
      ]
     },
     "execution_count": 37,
     "metadata": {},
     "output_type": "execute_result"
    }
   ],
   "source": [
    "data_.prepare_country_daywise_week()"
   ]
  },
  {
   "cell_type": "code",
   "execution_count": null,
   "metadata": {},
   "outputs": [],
   "source": []
  }
 ],
 "metadata": {
  "kernelspec": {
   "display_name": "Python 3",
   "language": "python",
   "name": "python3"
  },
  "language_info": {
   "codemirror_mode": {
    "name": "ipython",
    "version": 3
   },
   "file_extension": ".py",
   "mimetype": "text/x-python",
   "name": "python",
   "nbconvert_exporter": "python",
   "pygments_lexer": "ipython3",
   "version": "3.7.4"
  }
 },
 "nbformat": 4,
 "nbformat_minor": 4
}
