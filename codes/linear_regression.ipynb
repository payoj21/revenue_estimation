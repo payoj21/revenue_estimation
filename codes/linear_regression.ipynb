{
 "cells": [
  {
   "cell_type": "markdown",
   "metadata": {},
   "source": [
    "# Approach 2 : Linear Regression"
   ]
  },
  {
   "cell_type": "code",
   "execution_count": null,
   "metadata": {},
   "outputs": [],
   "source": []
  },
  {
   "cell_type": "markdown",
   "metadata": {},
   "source": [
    "### __Approach 2 : Linear Regression__ "
   ]
  },
  {
   "cell_type": "code",
   "execution_count": null,
   "metadata": {},
   "outputs": [],
   "source": [
    "model_revenue = lr()"
   ]
  },
  {
   "cell_type": "code",
   "execution_count": null,
   "metadata": {},
   "outputs": [],
   "source": [
    "train.head()"
   ]
  },
  {
   "cell_type": "code",
   "execution_count": null,
   "metadata": {},
   "outputs": [],
   "source": [
    "oof_train = np.zeros(shape=(len(train)))"
   ]
  },
  {
   "cell_type": "code",
   "execution_count": null,
   "metadata": {},
   "outputs": [],
   "source": [
    "print(\"Training for revenue\")\n",
    "feature_importance_df_revenue = pd.DataFrame()\n",
    "folds = KFold(n_splits=n_folds, shuffle=True, random_state=2019)\n",
    "\n",
    "# for iter in range(iterations):\n",
    "for fold_, (trn_idx, val_idx) in enumerate(folds.split(train.values, target_revenue.values)):\n",
    "    print('Fold no %i/%i'%(fold_+1,n_folds))\n",
    "    trn_data = train.iloc[trn_idx][features]\n",
    "    trn_label = target_revenue.iloc[trn_idx]\n",
    "    val_data = train.iloc[val_idx][features]\n",
    "    val_label = target_revenue.iloc[val_idx]\n",
    "    model_revenue.fit(X=trn_data, y=trn_label)\n",
    "\n",
    "    oof_train[val_idx] = model_revenue.predict(val_data)\n",
    "\n",
    "    fold_importance_df = pd.DataFrame()\n",
    "    fold_importance_df[\"feature\"] = features\n",
    "    fold_importance_df[\"importance\"] = model_revenue.coef_\n",
    "    fold_importance_df[\"fold\"] = fold_ + 1\n",
    "    feature_importance_df_revenue = pd.concat([feature_importance_df_revenue, fold_importance_df], axis=0)\n",
    "\n",
    "score = mean_absolute_error(oof_train[:], target_revenue)\n",
    "print('Training CV score: %.5f' %score)"
   ]
  },
  {
   "cell_type": "code",
   "execution_count": null,
   "metadata": {},
   "outputs": [],
   "source": [
    "# Visualisation\n",
    "cols = (feature_importance_df_revenue[[\"feature\", \"importance\"]]\n",
    "        .groupby(\"feature\")\n",
    "        .mean()\n",
    "        .sort_values(by=\"importance\", ascending=False)[:25].index)\n",
    "\n",
    "best_features = feature_importance_df_revenue.loc[feature_importance_df_revenue.feature.isin(cols)]\n",
    "\n",
    "plt.figure(figsize=(12,10))\n",
    "sns.barplot(x=\"importance\",\n",
    "            y=\"feature\",\n",
    "            data=best_features.sort_values(by=\"importance\",\n",
    "                                           ascending=False))\n",
    "plt.title('Feature importances for revenue')\n",
    "plt.tight_layout()"
   ]
  },
  {
   "cell_type": "code",
   "execution_count": null,
   "metadata": {},
   "outputs": [],
   "source": [
    "count = 0\n",
    "for item in oof_train:\n",
    "    if item == 0:\n",
    "        count += 1"
   ]
  },
  {
   "cell_type": "code",
   "execution_count": null,
   "metadata": {},
   "outputs": [],
   "source": [
    "count"
   ]
  },
  {
   "cell_type": "code",
   "execution_count": null,
   "metadata": {},
   "outputs": [],
   "source": [
    "oof_train"
   ]
  },
  {
   "cell_type": "code",
   "execution_count": null,
   "metadata": {},
   "outputs": [],
   "source": [
    "_error = (oof_train - target_revenue)/target_revenue"
   ]
  },
  {
   "cell_type": "code",
   "execution_count": null,
   "metadata": {},
   "outputs": [],
   "source": [
    "_error.hist(bins=2000)"
   ]
  },
  {
   "cell_type": "code",
   "execution_count": null,
   "metadata": {},
   "outputs": [],
   "source": [
    "plt.axis([-1,1, 0, 300])\n",
    "_error.hist(bins=2000)"
   ]
  },
  {
   "cell_type": "code",
   "execution_count": null,
   "metadata": {},
   "outputs": [],
   "source": [
    "plt.axis([1,10, 0, 150])\n",
    "_error.hist(bins=500)"
   ]
  },
  {
   "cell_type": "code",
   "execution_count": null,
   "metadata": {},
   "outputs": [],
   "source": [
    "plt.axis([10,50, 0, 50])\n",
    "_error.hist(bins=100)"
   ]
  }
 ],
 "metadata": {
  "kernelspec": {
   "display_name": "Python 3",
   "language": "python",
   "name": "python3"
  },
  "language_info": {
   "codemirror_mode": {
    "name": "ipython",
    "version": 3
   },
   "file_extension": ".py",
   "mimetype": "text/x-python",
   "name": "python",
   "nbconvert_exporter": "python",
   "pygments_lexer": "ipython3",
   "version": "3.7.4"
  }
 },
 "nbformat": 4,
 "nbformat_minor": 4
}
