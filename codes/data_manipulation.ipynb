{
 "cells": [
  {
   "cell_type": "code",
   "execution_count": 1,
   "metadata": {},
   "outputs": [],
   "source": [
    "import pandas as pd"
   ]
  },
  {
   "cell_type": "code",
   "execution_count": 35,
   "metadata": {},
   "outputs": [],
   "source": [
    "df = pd.read_csv(r\"C:\\Users\\payoj.jain/Downloads/test.txt.csv\")"
   ]
  },
  {
   "cell_type": "code",
   "execution_count": 36,
   "metadata": {},
   "outputs": [
    {
     "data": {
      "text/html": [
       "<div>\n",
       "<style scoped>\n",
       "    .dataframe tbody tr th:only-of-type {\n",
       "        vertical-align: middle;\n",
       "    }\n",
       "\n",
       "    .dataframe tbody tr th {\n",
       "        vertical-align: top;\n",
       "    }\n",
       "\n",
       "    .dataframe thead th {\n",
       "        text-align: right;\n",
       "    }\n",
       "</style>\n",
       "<table border=\"1\" class=\"dataframe\">\n",
       "  <thead>\n",
       "    <tr style=\"text-align: right;\">\n",
       "      <th></th>\n",
       "      <th>COLUMN1</th>\n",
       "      <th>COLUMN2</th>\n",
       "    </tr>\n",
       "  </thead>\n",
       "  <tbody>\n",
       "    <tr>\n",
       "      <td>0</td>\n",
       "      <td>MULTILINESTRING ((-4.94237 55.725449,-4.941922...</td>\n",
       "      <td>0</td>\n",
       "    </tr>\n",
       "    <tr>\n",
       "      <td>1</td>\n",
       "      <td>MULTILINESTRING ((-4.940511 55.724583,-4.94048...</td>\n",
       "      <td>1</td>\n",
       "    </tr>\n",
       "    <tr>\n",
       "      <td>2</td>\n",
       "      <td>MULTILINESTRING ((-4.732901 55.524961,-4.73380...</td>\n",
       "      <td>2</td>\n",
       "    </tr>\n",
       "    <tr>\n",
       "      <td>3</td>\n",
       "      <td>MULTILINESTRING ((-4.95385 55.162896,-4.953875...</td>\n",
       "      <td>3</td>\n",
       "    </tr>\n",
       "    <tr>\n",
       "      <td>4</td>\n",
       "      <td>MULTILINESTRING ((-1.7537208 50.7227359,-1.753...</td>\n",
       "      <td>4</td>\n",
       "    </tr>\n",
       "  </tbody>\n",
       "</table>\n",
       "</div>"
      ],
      "text/plain": [
       "                                             COLUMN1   COLUMN2\n",
       "0  MULTILINESTRING ((-4.94237 55.725449,-4.941922...         0\n",
       "1  MULTILINESTRING ((-4.940511 55.724583,-4.94048...         1\n",
       "2  MULTILINESTRING ((-4.732901 55.524961,-4.73380...         2\n",
       "3  MULTILINESTRING ((-4.95385 55.162896,-4.953875...         3\n",
       "4  MULTILINESTRING ((-1.7537208 50.7227359,-1.753...         4"
      ]
     },
     "execution_count": 36,
     "metadata": {},
     "output_type": "execute_result"
    }
   ],
   "source": [
    "df.head()"
   ]
  },
  {
   "cell_type": "code",
   "execution_count": 37,
   "metadata": {},
   "outputs": [
    {
     "data": {
      "text/plain": [
       "array(['MULTILINESTRING ((-4.94237 55.725449,-4.941922 55.725585,-4.9420024 55.7252119,-4.9422001 55.7250997,-4.9423197 55.7251789,-4.9425472 55.7253089,-4.94237 55.725449))',\n",
       "       0], dtype=object)"
      ]
     },
     "execution_count": 37,
     "metadata": {},
     "output_type": "execute_result"
    }
   ],
   "source": [
    "df.values[0]"
   ]
  },
  {
   "cell_type": "code",
   "execution_count": 38,
   "metadata": {},
   "outputs": [
    {
     "data": {
      "text/plain": [
       "Index(['COLUMN1', ' COLUMN2'], dtype='object')"
      ]
     },
     "execution_count": 38,
     "metadata": {},
     "output_type": "execute_result"
    }
   ],
   "source": [
    "df.columns"
   ]
  },
  {
   "cell_type": "code",
   "execution_count": 39,
   "metadata": {},
   "outputs": [],
   "source": [
    "df = df.drop([\" COLUMN2\"], axis=1)"
   ]
  },
  {
   "cell_type": "code",
   "execution_count": 40,
   "metadata": {},
   "outputs": [
    {
     "data": {
      "text/plain": [
       "array(['MULTILINESTRING ((-4.94237 55.725449,-4.941922 55.725585,-4.9420024 55.7252119,-4.9422001 55.7250997,-4.9423197 55.7251789,-4.9425472 55.7253089,-4.94237 55.725449))'],\n",
       "      dtype=object)"
      ]
     },
     "execution_count": 40,
     "metadata": {},
     "output_type": "execute_result"
    }
   ],
   "source": [
    "df.values[0]"
   ]
  },
  {
   "cell_type": "code",
   "execution_count": 41,
   "metadata": {},
   "outputs": [],
   "source": [
    "df[df.columns[0]] = df[df.columns[0]].str.replace(\"MULTILINESTRING \\(\\(\", \"\")"
   ]
  },
  {
   "cell_type": "code",
   "execution_count": 42,
   "metadata": {},
   "outputs": [
    {
     "data": {
      "text/plain": [
       "array(['-4.94237 55.725449,-4.941922 55.725585,-4.9420024 55.7252119,-4.9422001 55.7250997,-4.9423197 55.7251789,-4.9425472 55.7253089,-4.94237 55.725449))'],\n",
       "      dtype=object)"
      ]
     },
     "execution_count": 42,
     "metadata": {},
     "output_type": "execute_result"
    }
   ],
   "source": [
    "df.values[0]"
   ]
  },
  {
   "cell_type": "code",
   "execution_count": 43,
   "metadata": {},
   "outputs": [],
   "source": [
    "df[df.columns[0]] = df[df.columns[0]].str.replace(\"\\)\\)\", \"\")"
   ]
  },
  {
   "cell_type": "code",
   "execution_count": 44,
   "metadata": {},
   "outputs": [],
   "source": [
    "df[df.columns[0]] = df[df.columns[0]].str.replace(\"'\", \"\")"
   ]
  },
  {
   "cell_type": "code",
   "execution_count": 45,
   "metadata": {},
   "outputs": [],
   "source": [
    "df[df.columns[0]] = df[df.columns[0]].str.replace('\"', '')"
   ]
  },
  {
   "cell_type": "code",
   "execution_count": 46,
   "metadata": {},
   "outputs": [
    {
     "data": {
      "text/plain": [
       "array(['-4.94237 55.725449,-4.941922 55.725585,-4.9420024 55.7252119,-4.9422001 55.7250997,-4.9423197 55.7251789,-4.9425472 55.7253089,-4.94237 55.725449'],\n",
       "      dtype=object)"
      ]
     },
     "execution_count": 46,
     "metadata": {},
     "output_type": "execute_result"
    }
   ],
   "source": [
    "df.values[0]"
   ]
  },
  {
   "cell_type": "code",
   "execution_count": 102,
   "metadata": {},
   "outputs": [],
   "source": [
    "df.to_csv(r\"C:\\Users\\payoj.jain/Downloads/test.csv\")"
   ]
  },
  {
   "cell_type": "code",
   "execution_count": 47,
   "metadata": {},
   "outputs": [],
   "source": [
    "df[df.columns[0]] = df[df.columns[0]].str.replace(\",\", \"\\n\")"
   ]
  },
  {
   "cell_type": "code",
   "execution_count": 48,
   "metadata": {},
   "outputs": [],
   "source": [
    "df[df.columns[0]] = df[df.columns[0]].str.replace(\"'\", \"\\n\")"
   ]
  },
  {
   "cell_type": "code",
   "execution_count": 49,
   "metadata": {},
   "outputs": [
    {
     "data": {
      "text/html": [
       "<div>\n",
       "<style scoped>\n",
       "    .dataframe tbody tr th:only-of-type {\n",
       "        vertical-align: middle;\n",
       "    }\n",
       "\n",
       "    .dataframe tbody tr th {\n",
       "        vertical-align: top;\n",
       "    }\n",
       "\n",
       "    .dataframe thead th {\n",
       "        text-align: right;\n",
       "    }\n",
       "</style>\n",
       "<table border=\"1\" class=\"dataframe\">\n",
       "  <thead>\n",
       "    <tr style=\"text-align: right;\">\n",
       "      <th></th>\n",
       "      <th>COLUMN1</th>\n",
       "    </tr>\n",
       "  </thead>\n",
       "  <tbody>\n",
       "    <tr>\n",
       "      <td>0</td>\n",
       "      <td>-4.94237 55.725449\\n-4.941922 55.725585\\n-4.94...</td>\n",
       "    </tr>\n",
       "  </tbody>\n",
       "</table>\n",
       "</div>"
      ],
      "text/plain": [
       "                                             COLUMN1\n",
       "0  -4.94237 55.725449\\n-4.941922 55.725585\\n-4.94..."
      ]
     },
     "execution_count": 49,
     "metadata": {},
     "output_type": "execute_result"
    }
   ],
   "source": [
    "df[:1]"
   ]
  },
  {
   "cell_type": "code",
   "execution_count": 50,
   "metadata": {},
   "outputs": [],
   "source": [
    "df[df.columns[0]] = df[df.columns[0]].str.replace(\" \",\",\")"
   ]
  },
  {
   "cell_type": "code",
   "execution_count": 51,
   "metadata": {},
   "outputs": [
    {
     "data": {
      "text/html": [
       "<div>\n",
       "<style scoped>\n",
       "    .dataframe tbody tr th:only-of-type {\n",
       "        vertical-align: middle;\n",
       "    }\n",
       "\n",
       "    .dataframe tbody tr th {\n",
       "        vertical-align: top;\n",
       "    }\n",
       "\n",
       "    .dataframe thead th {\n",
       "        text-align: right;\n",
       "    }\n",
       "</style>\n",
       "<table border=\"1\" class=\"dataframe\">\n",
       "  <thead>\n",
       "    <tr style=\"text-align: right;\">\n",
       "      <th></th>\n",
       "      <th>COLUMN1</th>\n",
       "    </tr>\n",
       "  </thead>\n",
       "  <tbody>\n",
       "    <tr>\n",
       "      <td>0</td>\n",
       "      <td>-4.94237,55.725449\\n-4.941922,55.725585\\n-4.94...</td>\n",
       "    </tr>\n",
       "    <tr>\n",
       "      <td>1</td>\n",
       "      <td>-4.940511,55.724583\\n-4.940486,55.724071\\n-4.9...</td>\n",
       "    </tr>\n",
       "    <tr>\n",
       "      <td>2</td>\n",
       "      <td>-4.732901,55.524961\\n-4.733804,55.524948\\n-4.7...</td>\n",
       "    </tr>\n",
       "    <tr>\n",
       "      <td>3</td>\n",
       "      <td>-4.95385,55.162896\\n-4.953875,55.163408\\n-4.95...</td>\n",
       "    </tr>\n",
       "    <tr>\n",
       "      <td>4</td>\n",
       "      <td>-1.7537208,50.7227359\\n-1.7534958,50.7228391\\n...</td>\n",
       "    </tr>\n",
       "    <tr>\n",
       "      <td>...</td>\n",
       "      <td>...</td>\n",
       "    </tr>\n",
       "    <tr>\n",
       "      <td>670462</td>\n",
       "      <td>20.3878589,59.9800602\\n20.3878903,59.9800494\\n...</td>\n",
       "    </tr>\n",
       "    <tr>\n",
       "      <td>670463</td>\n",
       "      <td>20.3859346,59.9801054\\n20.3859705,59.9801018\\n...</td>\n",
       "    </tr>\n",
       "    <tr>\n",
       "      <td>670464</td>\n",
       "      <td>20.3880975,59.9797847\\n20.3881151,59.9797734\\n...</td>\n",
       "    </tr>\n",
       "    <tr>\n",
       "      <td>670465</td>\n",
       "      <td>20.3828188,59.9784024\\n20.3828303,59.9783865\\n...</td>\n",
       "    </tr>\n",
       "    <tr>\n",
       "      <td>670466</td>\n",
       "      <td>11.6817879,57.9800282\\n11.6818129,57.98005\\n11...</td>\n",
       "    </tr>\n",
       "  </tbody>\n",
       "</table>\n",
       "<p>670467 rows × 1 columns</p>\n",
       "</div>"
      ],
      "text/plain": [
       "                                                  COLUMN1\n",
       "0       -4.94237,55.725449\\n-4.941922,55.725585\\n-4.94...\n",
       "1       -4.940511,55.724583\\n-4.940486,55.724071\\n-4.9...\n",
       "2       -4.732901,55.524961\\n-4.733804,55.524948\\n-4.7...\n",
       "3       -4.95385,55.162896\\n-4.953875,55.163408\\n-4.95...\n",
       "4       -1.7537208,50.7227359\\n-1.7534958,50.7228391\\n...\n",
       "...                                                   ...\n",
       "670462  20.3878589,59.9800602\\n20.3878903,59.9800494\\n...\n",
       "670463  20.3859346,59.9801054\\n20.3859705,59.9801018\\n...\n",
       "670464  20.3880975,59.9797847\\n20.3881151,59.9797734\\n...\n",
       "670465  20.3828188,59.9784024\\n20.3828303,59.9783865\\n...\n",
       "670466  11.6817879,57.9800282\\n11.6818129,57.98005\\n11...\n",
       "\n",
       "[670467 rows x 1 columns]"
      ]
     },
     "execution_count": 51,
     "metadata": {},
     "output_type": "execute_result"
    }
   ],
   "source": [
    "df"
   ]
  },
  {
   "cell_type": "code",
   "execution_count": 32,
   "metadata": {},
   "outputs": [],
   "source": [
    "df = df.drop([\"Unnamed: 0\"], axis=1)"
   ]
  },
  {
   "cell_type": "code",
   "execution_count": 52,
   "metadata": {},
   "outputs": [],
   "source": [
    "# df = df.rename(columns={df.columns[0]:',,\\n'+df.columns[0]})\n",
    "# df_sub = df[:10]\n",
    "df.to_csv(r\"C:\\Users\\payoj.jain/Downloads/test.csv\")"
   ]
  },
  {
   "cell_type": "code",
   "execution_count": 26,
   "metadata": {},
   "outputs": [],
   "source": [
    "df = pd.read_csv(r\"C:\\Users\\payoj.jain/Downloads/test.csv\")"
   ]
  },
  {
   "cell_type": "code",
   "execution_count": 27,
   "metadata": {},
   "outputs": [
    {
     "data": {
      "text/html": [
       "<div>\n",
       "<style scoped>\n",
       "    .dataframe tbody tr th:only-of-type {\n",
       "        vertical-align: middle;\n",
       "    }\n",
       "\n",
       "    .dataframe tbody tr th {\n",
       "        vertical-align: top;\n",
       "    }\n",
       "\n",
       "    .dataframe thead th {\n",
       "        text-align: right;\n",
       "    }\n",
       "</style>\n",
       "<table border=\"1\" class=\"dataframe\">\n",
       "  <thead>\n",
       "    <tr style=\"text-align: right;\">\n",
       "      <th></th>\n",
       "      <th>Unnamed: 0</th>\n",
       "      <th>COLUMN1</th>\n",
       "    </tr>\n",
       "  </thead>\n",
       "  <tbody>\n",
       "    <tr>\n",
       "      <td>0</td>\n",
       "      <td>0</td>\n",
       "      <td>-4.94237,55.725449\\n-4.941922,55.725585\\n-4.94...</td>\n",
       "    </tr>\n",
       "    <tr>\n",
       "      <td>1</td>\n",
       "      <td>1</td>\n",
       "      <td>-4.940511,55.724583\\n-4.940486,55.724071\\n-4.9...</td>\n",
       "    </tr>\n",
       "    <tr>\n",
       "      <td>2</td>\n",
       "      <td>2</td>\n",
       "      <td>-4.732901,55.524961\\n-4.733804,55.524948\\n-4.7...</td>\n",
       "    </tr>\n",
       "    <tr>\n",
       "      <td>3</td>\n",
       "      <td>3</td>\n",
       "      <td>-4.95385,55.162896\\n-4.953875,55.163408\\n-4.95...</td>\n",
       "    </tr>\n",
       "    <tr>\n",
       "      <td>4</td>\n",
       "      <td>4</td>\n",
       "      <td>-1.7537208,50.7227359\\n-1.7534958,50.7228391\\n...</td>\n",
       "    </tr>\n",
       "  </tbody>\n",
       "</table>\n",
       "</div>"
      ],
      "text/plain": [
       "   Unnamed: 0                                            COLUMN1\n",
       "0           0  -4.94237,55.725449\\n-4.941922,55.725585\\n-4.94...\n",
       "1           1  -4.940511,55.724583\\n-4.940486,55.724071\\n-4.9...\n",
       "2           2  -4.732901,55.524961\\n-4.733804,55.524948\\n-4.7...\n",
       "3           3  -4.95385,55.162896\\n-4.953875,55.163408\\n-4.95...\n",
       "4           4  -1.7537208,50.7227359\\n-1.7534958,50.7228391\\n..."
      ]
     },
     "execution_count": 27,
     "metadata": {},
     "output_type": "execute_result"
    }
   ],
   "source": [
    "df.head()"
   ]
  },
  {
   "cell_type": "code",
   "execution_count": 53,
   "metadata": {},
   "outputs": [],
   "source": [
    "import re"
   ]
  },
  {
   "cell_type": "code",
   "execution_count": null,
   "metadata": {},
   "outputs": [],
   "source": [
    "f = open(r\"C:\\Users\\payoj.jain/Downloads/test.csv\")\n",
    "for line in f:\n",
    "    string = line.replace('\"', \"\")\n",
    "    string = string.replace()"
   ]
  }
 ],
 "metadata": {
  "kernelspec": {
   "display_name": "Python 3",
   "language": "python",
   "name": "python3"
  },
  "language_info": {
   "codemirror_mode": {
    "name": "ipython",
    "version": 3
   },
   "file_extension": ".py",
   "mimetype": "text/x-python",
   "name": "python",
   "nbconvert_exporter": "python",
   "pygments_lexer": "ipython3",
   "version": "3.7.4"
  }
 },
 "nbformat": 4,
 "nbformat_minor": 4
}
