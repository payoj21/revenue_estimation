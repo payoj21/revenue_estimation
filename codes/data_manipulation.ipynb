{
 "cells": [
  {
   "cell_type": "code",
   "execution_count": 19,
   "metadata": {},
   "outputs": [],
   "source": [
    "import pandas as pd\n",
    "import calendar\n",
    "import datetime"
   ]
  },
  {
   "cell_type": "code",
   "execution_count": 35,
   "metadata": {},
   "outputs": [],
   "source": [
    "df = pd.read_csv(r\"C:\\Users\\payoj.jain/Downloads/test.txt.csv\")"
   ]
  },
  {
   "cell_type": "code",
   "execution_count": 36,
   "metadata": {},
   "outputs": [
    {
     "data": {
      "text/html": [
       "<div>\n",
       "<style scoped>\n",
       "    .dataframe tbody tr th:only-of-type {\n",
       "        vertical-align: middle;\n",
       "    }\n",
       "\n",
       "    .dataframe tbody tr th {\n",
       "        vertical-align: top;\n",
       "    }\n",
       "\n",
       "    .dataframe thead th {\n",
       "        text-align: right;\n",
       "    }\n",
       "</style>\n",
       "<table border=\"1\" class=\"dataframe\">\n",
       "  <thead>\n",
       "    <tr style=\"text-align: right;\">\n",
       "      <th></th>\n",
       "      <th>COLUMN1</th>\n",
       "      <th>COLUMN2</th>\n",
       "    </tr>\n",
       "  </thead>\n",
       "  <tbody>\n",
       "    <tr>\n",
       "      <td>0</td>\n",
       "      <td>MULTILINESTRING ((-4.94237 55.725449,-4.941922...</td>\n",
       "      <td>0</td>\n",
       "    </tr>\n",
       "    <tr>\n",
       "      <td>1</td>\n",
       "      <td>MULTILINESTRING ((-4.940511 55.724583,-4.94048...</td>\n",
       "      <td>1</td>\n",
       "    </tr>\n",
       "    <tr>\n",
       "      <td>2</td>\n",
       "      <td>MULTILINESTRING ((-4.732901 55.524961,-4.73380...</td>\n",
       "      <td>2</td>\n",
       "    </tr>\n",
       "    <tr>\n",
       "      <td>3</td>\n",
       "      <td>MULTILINESTRING ((-4.95385 55.162896,-4.953875...</td>\n",
       "      <td>3</td>\n",
       "    </tr>\n",
       "    <tr>\n",
       "      <td>4</td>\n",
       "      <td>MULTILINESTRING ((-1.7537208 50.7227359,-1.753...</td>\n",
       "      <td>4</td>\n",
       "    </tr>\n",
       "  </tbody>\n",
       "</table>\n",
       "</div>"
      ],
      "text/plain": [
       "                                             COLUMN1   COLUMN2\n",
       "0  MULTILINESTRING ((-4.94237 55.725449,-4.941922...         0\n",
       "1  MULTILINESTRING ((-4.940511 55.724583,-4.94048...         1\n",
       "2  MULTILINESTRING ((-4.732901 55.524961,-4.73380...         2\n",
       "3  MULTILINESTRING ((-4.95385 55.162896,-4.953875...         3\n",
       "4  MULTILINESTRING ((-1.7537208 50.7227359,-1.753...         4"
      ]
     },
     "execution_count": 36,
     "metadata": {},
     "output_type": "execute_result"
    }
   ],
   "source": [
    "df.head()"
   ]
  },
  {
   "cell_type": "code",
   "execution_count": 37,
   "metadata": {},
   "outputs": [
    {
     "data": {
      "text/plain": [
       "array(['MULTILINESTRING ((-4.94237 55.725449,-4.941922 55.725585,-4.9420024 55.7252119,-4.9422001 55.7250997,-4.9423197 55.7251789,-4.9425472 55.7253089,-4.94237 55.725449))',\n",
       "       0], dtype=object)"
      ]
     },
     "execution_count": 37,
     "metadata": {},
     "output_type": "execute_result"
    }
   ],
   "source": [
    "df.values[0]"
   ]
  },
  {
   "cell_type": "code",
   "execution_count": 38,
   "metadata": {},
   "outputs": [
    {
     "data": {
      "text/plain": [
       "Index(['COLUMN1', ' COLUMN2'], dtype='object')"
      ]
     },
     "execution_count": 38,
     "metadata": {},
     "output_type": "execute_result"
    }
   ],
   "source": [
    "df.columns"
   ]
  },
  {
   "cell_type": "code",
   "execution_count": 39,
   "metadata": {},
   "outputs": [],
   "source": [
    "df = df.drop([\" COLUMN2\"], axis=1)"
   ]
  },
  {
   "cell_type": "code",
   "execution_count": 40,
   "metadata": {},
   "outputs": [
    {
     "data": {
      "text/plain": [
       "array(['MULTILINESTRING ((-4.94237 55.725449,-4.941922 55.725585,-4.9420024 55.7252119,-4.9422001 55.7250997,-4.9423197 55.7251789,-4.9425472 55.7253089,-4.94237 55.725449))'],\n",
       "      dtype=object)"
      ]
     },
     "execution_count": 40,
     "metadata": {},
     "output_type": "execute_result"
    }
   ],
   "source": [
    "df.values[0]"
   ]
  },
  {
   "cell_type": "code",
   "execution_count": 41,
   "metadata": {},
   "outputs": [],
   "source": [
    "df[df.columns[0]] = df[df.columns[0]].str.replace(\"MULTILINESTRING \\(\\(\", \"\")"
   ]
  },
  {
   "cell_type": "code",
   "execution_count": 42,
   "metadata": {},
   "outputs": [
    {
     "data": {
      "text/plain": [
       "array(['-4.94237 55.725449,-4.941922 55.725585,-4.9420024 55.7252119,-4.9422001 55.7250997,-4.9423197 55.7251789,-4.9425472 55.7253089,-4.94237 55.725449))'],\n",
       "      dtype=object)"
      ]
     },
     "execution_count": 42,
     "metadata": {},
     "output_type": "execute_result"
    }
   ],
   "source": [
    "df.values[0]"
   ]
  },
  {
   "cell_type": "code",
   "execution_count": 43,
   "metadata": {},
   "outputs": [],
   "source": [
    "df[df.columns[0]] = df[df.columns[0]].str.replace(\"\\)\\)\", \"\")"
   ]
  },
  {
   "cell_type": "code",
   "execution_count": 44,
   "metadata": {},
   "outputs": [],
   "source": [
    "df[df.columns[0]] = df[df.columns[0]].str.replace(\"'\", \"\")"
   ]
  },
  {
   "cell_type": "code",
   "execution_count": 45,
   "metadata": {},
   "outputs": [],
   "source": [
    "df[df.columns[0]] = df[df.columns[0]].str.replace('\"', '')"
   ]
  },
  {
   "cell_type": "code",
   "execution_count": 46,
   "metadata": {},
   "outputs": [
    {
     "data": {
      "text/plain": [
       "array(['-4.94237 55.725449,-4.941922 55.725585,-4.9420024 55.7252119,-4.9422001 55.7250997,-4.9423197 55.7251789,-4.9425472 55.7253089,-4.94237 55.725449'],\n",
       "      dtype=object)"
      ]
     },
     "execution_count": 46,
     "metadata": {},
     "output_type": "execute_result"
    }
   ],
   "source": [
    "df.values[0]"
   ]
  },
  {
   "cell_type": "code",
   "execution_count": 102,
   "metadata": {},
   "outputs": [],
   "source": [
    "df.to_csv(r\"C:\\Users\\payoj.jain/Downloads/test.csv\")"
   ]
  },
  {
   "cell_type": "code",
   "execution_count": 47,
   "metadata": {},
   "outputs": [],
   "source": [
    "df[df.columns[0]] = df[df.columns[0]].str.replace(\",\", \"\\n\")"
   ]
  },
  {
   "cell_type": "code",
   "execution_count": 48,
   "metadata": {},
   "outputs": [],
   "source": [
    "df[df.columns[0]] = df[df.columns[0]].str.replace(\"'\", \"\\n\")"
   ]
  },
  {
   "cell_type": "code",
   "execution_count": 49,
   "metadata": {},
   "outputs": [
    {
     "data": {
      "text/html": [
       "<div>\n",
       "<style scoped>\n",
       "    .dataframe tbody tr th:only-of-type {\n",
       "        vertical-align: middle;\n",
       "    }\n",
       "\n",
       "    .dataframe tbody tr th {\n",
       "        vertical-align: top;\n",
       "    }\n",
       "\n",
       "    .dataframe thead th {\n",
       "        text-align: right;\n",
       "    }\n",
       "</style>\n",
       "<table border=\"1\" class=\"dataframe\">\n",
       "  <thead>\n",
       "    <tr style=\"text-align: right;\">\n",
       "      <th></th>\n",
       "      <th>COLUMN1</th>\n",
       "    </tr>\n",
       "  </thead>\n",
       "  <tbody>\n",
       "    <tr>\n",
       "      <td>0</td>\n",
       "      <td>-4.94237 55.725449\\n-4.941922 55.725585\\n-4.94...</td>\n",
       "    </tr>\n",
       "  </tbody>\n",
       "</table>\n",
       "</div>"
      ],
      "text/plain": [
       "                                             COLUMN1\n",
       "0  -4.94237 55.725449\\n-4.941922 55.725585\\n-4.94..."
      ]
     },
     "execution_count": 49,
     "metadata": {},
     "output_type": "execute_result"
    }
   ],
   "source": [
    "df[:1]"
   ]
  },
  {
   "cell_type": "code",
   "execution_count": 50,
   "metadata": {},
   "outputs": [],
   "source": [
    "df[df.columns[0]] = df[df.columns[0]].str.replace(\" \",\",\")"
   ]
  },
  {
   "cell_type": "code",
   "execution_count": 51,
   "metadata": {},
   "outputs": [
    {
     "data": {
      "text/html": [
       "<div>\n",
       "<style scoped>\n",
       "    .dataframe tbody tr th:only-of-type {\n",
       "        vertical-align: middle;\n",
       "    }\n",
       "\n",
       "    .dataframe tbody tr th {\n",
       "        vertical-align: top;\n",
       "    }\n",
       "\n",
       "    .dataframe thead th {\n",
       "        text-align: right;\n",
       "    }\n",
       "</style>\n",
       "<table border=\"1\" class=\"dataframe\">\n",
       "  <thead>\n",
       "    <tr style=\"text-align: right;\">\n",
       "      <th></th>\n",
       "      <th>COLUMN1</th>\n",
       "    </tr>\n",
       "  </thead>\n",
       "  <tbody>\n",
       "    <tr>\n",
       "      <td>0</td>\n",
       "      <td>-4.94237,55.725449\\n-4.941922,55.725585\\n-4.94...</td>\n",
       "    </tr>\n",
       "    <tr>\n",
       "      <td>1</td>\n",
       "      <td>-4.940511,55.724583\\n-4.940486,55.724071\\n-4.9...</td>\n",
       "    </tr>\n",
       "    <tr>\n",
       "      <td>2</td>\n",
       "      <td>-4.732901,55.524961\\n-4.733804,55.524948\\n-4.7...</td>\n",
       "    </tr>\n",
       "    <tr>\n",
       "      <td>3</td>\n",
       "      <td>-4.95385,55.162896\\n-4.953875,55.163408\\n-4.95...</td>\n",
       "    </tr>\n",
       "    <tr>\n",
       "      <td>4</td>\n",
       "      <td>-1.7537208,50.7227359\\n-1.7534958,50.7228391\\n...</td>\n",
       "    </tr>\n",
       "    <tr>\n",
       "      <td>...</td>\n",
       "      <td>...</td>\n",
       "    </tr>\n",
       "    <tr>\n",
       "      <td>670462</td>\n",
       "      <td>20.3878589,59.9800602\\n20.3878903,59.9800494\\n...</td>\n",
       "    </tr>\n",
       "    <tr>\n",
       "      <td>670463</td>\n",
       "      <td>20.3859346,59.9801054\\n20.3859705,59.9801018\\n...</td>\n",
       "    </tr>\n",
       "    <tr>\n",
       "      <td>670464</td>\n",
       "      <td>20.3880975,59.9797847\\n20.3881151,59.9797734\\n...</td>\n",
       "    </tr>\n",
       "    <tr>\n",
       "      <td>670465</td>\n",
       "      <td>20.3828188,59.9784024\\n20.3828303,59.9783865\\n...</td>\n",
       "    </tr>\n",
       "    <tr>\n",
       "      <td>670466</td>\n",
       "      <td>11.6817879,57.9800282\\n11.6818129,57.98005\\n11...</td>\n",
       "    </tr>\n",
       "  </tbody>\n",
       "</table>\n",
       "<p>670467 rows × 1 columns</p>\n",
       "</div>"
      ],
      "text/plain": [
       "                                                  COLUMN1\n",
       "0       -4.94237,55.725449\\n-4.941922,55.725585\\n-4.94...\n",
       "1       -4.940511,55.724583\\n-4.940486,55.724071\\n-4.9...\n",
       "2       -4.732901,55.524961\\n-4.733804,55.524948\\n-4.7...\n",
       "3       -4.95385,55.162896\\n-4.953875,55.163408\\n-4.95...\n",
       "4       -1.7537208,50.7227359\\n-1.7534958,50.7228391\\n...\n",
       "...                                                   ...\n",
       "670462  20.3878589,59.9800602\\n20.3878903,59.9800494\\n...\n",
       "670463  20.3859346,59.9801054\\n20.3859705,59.9801018\\n...\n",
       "670464  20.3880975,59.9797847\\n20.3881151,59.9797734\\n...\n",
       "670465  20.3828188,59.9784024\\n20.3828303,59.9783865\\n...\n",
       "670466  11.6817879,57.9800282\\n11.6818129,57.98005\\n11...\n",
       "\n",
       "[670467 rows x 1 columns]"
      ]
     },
     "execution_count": 51,
     "metadata": {},
     "output_type": "execute_result"
    }
   ],
   "source": [
    "df"
   ]
  },
  {
   "cell_type": "code",
   "execution_count": 32,
   "metadata": {},
   "outputs": [],
   "source": [
    "df = df.drop([\"Unnamed: 0\"], axis=1)"
   ]
  },
  {
   "cell_type": "code",
   "execution_count": 52,
   "metadata": {},
   "outputs": [],
   "source": [
    "# df = df.rename(columns={df.columns[0]:',,\\n'+df.columns[0]})\n",
    "# df_sub = df[:10]\n",
    "df.to_csv(r\"C:\\Users\\payoj.jain/Downloads/test.csv\")"
   ]
  },
  {
   "cell_type": "code",
   "execution_count": 26,
   "metadata": {},
   "outputs": [],
   "source": [
    "df = pd.read_csv(r\"C:\\Users\\payoj.jain/Downloads/test.csv\")"
   ]
  },
  {
   "cell_type": "code",
   "execution_count": 27,
   "metadata": {},
   "outputs": [
    {
     "data": {
      "text/html": [
       "<div>\n",
       "<style scoped>\n",
       "    .dataframe tbody tr th:only-of-type {\n",
       "        vertical-align: middle;\n",
       "    }\n",
       "\n",
       "    .dataframe tbody tr th {\n",
       "        vertical-align: top;\n",
       "    }\n",
       "\n",
       "    .dataframe thead th {\n",
       "        text-align: right;\n",
       "    }\n",
       "</style>\n",
       "<table border=\"1\" class=\"dataframe\">\n",
       "  <thead>\n",
       "    <tr style=\"text-align: right;\">\n",
       "      <th></th>\n",
       "      <th>Unnamed: 0</th>\n",
       "      <th>COLUMN1</th>\n",
       "    </tr>\n",
       "  </thead>\n",
       "  <tbody>\n",
       "    <tr>\n",
       "      <td>0</td>\n",
       "      <td>0</td>\n",
       "      <td>-4.94237,55.725449\\n-4.941922,55.725585\\n-4.94...</td>\n",
       "    </tr>\n",
       "    <tr>\n",
       "      <td>1</td>\n",
       "      <td>1</td>\n",
       "      <td>-4.940511,55.724583\\n-4.940486,55.724071\\n-4.9...</td>\n",
       "    </tr>\n",
       "    <tr>\n",
       "      <td>2</td>\n",
       "      <td>2</td>\n",
       "      <td>-4.732901,55.524961\\n-4.733804,55.524948\\n-4.7...</td>\n",
       "    </tr>\n",
       "    <tr>\n",
       "      <td>3</td>\n",
       "      <td>3</td>\n",
       "      <td>-4.95385,55.162896\\n-4.953875,55.163408\\n-4.95...</td>\n",
       "    </tr>\n",
       "    <tr>\n",
       "      <td>4</td>\n",
       "      <td>4</td>\n",
       "      <td>-1.7537208,50.7227359\\n-1.7534958,50.7228391\\n...</td>\n",
       "    </tr>\n",
       "  </tbody>\n",
       "</table>\n",
       "</div>"
      ],
      "text/plain": [
       "   Unnamed: 0                                            COLUMN1\n",
       "0           0  -4.94237,55.725449\\n-4.941922,55.725585\\n-4.94...\n",
       "1           1  -4.940511,55.724583\\n-4.940486,55.724071\\n-4.9...\n",
       "2           2  -4.732901,55.524961\\n-4.733804,55.524948\\n-4.7...\n",
       "3           3  -4.95385,55.162896\\n-4.953875,55.163408\\n-4.95...\n",
       "4           4  -1.7537208,50.7227359\\n-1.7534958,50.7228391\\n..."
      ]
     },
     "execution_count": 27,
     "metadata": {},
     "output_type": "execute_result"
    }
   ],
   "source": [
    "df.head()"
   ]
  },
  {
   "cell_type": "code",
   "execution_count": 53,
   "metadata": {},
   "outputs": [],
   "source": [
    "import re"
   ]
  },
  {
   "cell_type": "code",
   "execution_count": null,
   "metadata": {},
   "outputs": [],
   "source": [
    "f = open(r\"C:\\Users\\payoj.jain/Downloads/test.csv\")\n",
    "for line in f:\n",
    "    string = line.replace('\"', \"\")\n",
    "    string = string.replace(',\"\"')"
   ]
  },
  {
   "cell_type": "code",
   "execution_count": 1,
   "metadata": {},
   "outputs": [
    {
     "ename": "SyntaxError",
     "evalue": "invalid syntax (<ipython-input-1-dfb7a5a75e8d>, line 1)",
     "output_type": "error",
     "traceback": [
      "\u001b[1;36m  File \u001b[1;32m\"<ipython-input-1-dfb7a5a75e8d>\"\u001b[1;36m, line \u001b[1;32m1\u001b[0m\n\u001b[1;33m    a = 1 + 3 +\u001b[0m\n\u001b[1;37m               ^\u001b[0m\n\u001b[1;31mSyntaxError\u001b[0m\u001b[1;31m:\u001b[0m invalid syntax\n"
     ]
    }
   ],
   "source": [
    "a = 1 + 3 +\n",
    "    5"
   ]
  },
  {
   "cell_type": "code",
   "execution_count": 8,
   "metadata": {},
   "outputs": [
    {
     "data": {
      "text/plain": [
       "5"
      ]
     },
     "execution_count": 8,
     "metadata": {},
     "output_type": "execute_result"
    }
   ],
   "source": [
    "a = (1 + 3),\n",
    "(1+4)"
   ]
  },
  {
   "cell_type": "code",
   "execution_count": 9,
   "metadata": {},
   "outputs": [
    {
     "data": {
      "text/plain": [
       "(4,)"
      ]
     },
     "execution_count": 9,
     "metadata": {},
     "output_type": "execute_result"
    }
   ],
   "source": [
    "a"
   ]
  },
  {
   "cell_type": "code",
   "execution_count": 10,
   "metadata": {},
   "outputs": [],
   "source": [
    "a = {\n",
    "    \"1\":0,\n",
    "    \"2\":1\n",
    "}"
   ]
  },
  {
   "cell_type": "code",
   "execution_count": 11,
   "metadata": {},
   "outputs": [
    {
     "data": {
      "text/plain": [
       "{'1': 0, '2': 1}"
      ]
     },
     "execution_count": 11,
     "metadata": {},
     "output_type": "execute_result"
    }
   ],
   "source": [
    "a"
   ]
  },
  {
   "cell_type": "code",
   "execution_count": 12,
   "metadata": {},
   "outputs": [],
   "source": [
    "a = {\n",
    "\"1\":1,\n",
    "\"2\":3\n",
    "}"
   ]
  },
  {
   "cell_type": "code",
   "execution_count": 13,
   "metadata": {},
   "outputs": [
    {
     "data": {
      "text/plain": [
       "{'1': 1, '2': 3}"
      ]
     },
     "execution_count": 13,
     "metadata": {},
     "output_type": "execute_result"
    }
   ],
   "source": [
    "a"
   ]
  },
  {
   "cell_type": "code",
   "execution_count": 118,
   "metadata": {},
   "outputs": [],
   "source": [
    "HO_blockings = {\"start dates\":[\"25-01-2020\",\"01-04-2020\",\"15-12-2020\",\"22-02-2021\"], \"end dates\":[\"31-03-2020\",\"31-05-2020\",\"25-01-2021\",\"22-03-2021\"]}\n",
    "migrated_blockings = {\"start dates\":[],\"end dates\":[]}"
   ]
  },
  {
   "cell_type": "code",
   "execution_count": 122,
   "metadata": {},
   "outputs": [
    {
     "name": "stdout",
     "output_type": "stream",
     "text": [
      "        Day\n",
      "Month      \n",
      "Apr    30.0\n",
      "Aug     0.0\n",
      "Dec    17.0\n",
      "Feb    29.0\n",
      "Jan    30.0\n",
      "Jul     0.0\n",
      "Jun     0.0\n",
      "Mar    31.0\n",
      "May    31.0\n",
      "Nov     0.0\n",
      "Oct     0.0\n",
      "Sep     0.0\n"
     ]
    }
   ],
   "source": [
    "blockings = pd.DataFrame([(\"Jan\",0),(\"Feb\",0),(\"Mar\",0),(\"Apr\",0),(\"May\",0),(\"Jun\",0),(\"Jul\",0),(\"Aug\",0),(\"Sep\",0),(\"Oct\",0),(\"Nov\",0),(\"Dec\",0)], columns=[\"Month\",\"Day\"])\n",
    "\n",
    "blockings = blockings.set_index([\"Month\"])\n",
    "\n",
    "start_dates = HO_blockings[\"start dates\"]+migrated_blockings[\"start dates\"]\n",
    "end_dates = HO_blockings[\"end dates\"]+migrated_blockings[\"end dates\"]\n",
    "\n",
    "current_date = datetime.datetime.today()\n",
    "latest_date = current_date.replace(year = current_date.year+1)\n",
    "\n",
    "for i in range(len(start_dates)):\n",
    "\n",
    "    start = datetime.datetime.strptime(start_dates[i],\"%d-%m-%Y\")\n",
    "    end = datetime.datetime.strptime(end_dates[i],\"%d-%m-%Y\")\n",
    "\n",
    "    if start < latest_date:\n",
    "        if end > latest_date:\n",
    "            end = latest_date\n",
    "\n",
    "        #Generating all the dates between start and end date\n",
    "        date_generated = [start+datetime.timedelta(days=x) for x in range(0,(end-start).days+1)]\n",
    "\n",
    "        date_generated = pd.DataFrame(date_generated)\n",
    "\n",
    "#         print(blockings)\n",
    "        date_generated.columns = ['Date']\n",
    "\n",
    "        #Extracting Year, Month and Day from all the dates \n",
    "        date_generated['Year'] = pd.DatetimeIndex(date_generated['Date']).year\n",
    "        date_generated['Month'] = pd.DatetimeIndex(date_generated['Date']).month\n",
    "        date_generated['Day'] = pd.DatetimeIndex(date_generated['Date']).day\n",
    "\n",
    "        #Groupby month and year to get the desired output\n",
    "        date_generated = date_generated.drop([\"Year\"], axis=1)\n",
    "        days_per_month = date_generated.groupby(['Month'])['Day'].count()\n",
    "\n",
    "        days_per_month = days_per_month.reset_index()\n",
    "\n",
    "        days_per_month[\"Month\"] = days_per_month[\"Month\"].apply(lambda x: calendar.month_abbr[x])\n",
    "        days_per_month = days_per_month.set_index([\"Month\"])\n",
    "        blockings = blockings.add(days_per_month, fill_value=0)\n",
    "    else:\n",
    "        break\n",
    "print(blockings)\n",
    "months = [\"Jan\", \"Feb\", \"Mar\", \"Apr\", \"May\", \"Jun\", \"Jul\", \"Aug\", \"Sep\", \"Oct\", \"Nov\", \"Dec\"]"
   ]
  },
  {
   "cell_type": "code",
   "execution_count": 123,
   "metadata": {},
   "outputs": [
    {
     "data": {
      "text/plain": [
       "{'Apr': {'Day': 30.0},\n",
       " 'Aug': {'Day': 0.0},\n",
       " 'Dec': {'Day': 17.0},\n",
       " 'Feb': {'Day': 29.0},\n",
       " 'Jan': {'Day': 30.0},\n",
       " 'Jul': {'Day': 0.0},\n",
       " 'Jun': {'Day': 0.0},\n",
       " 'Mar': {'Day': 31.0},\n",
       " 'May': {'Day': 31.0},\n",
       " 'Nov': {'Day': 0.0},\n",
       " 'Oct': {'Day': 0.0},\n",
       " 'Sep': {'Day': 0.0}}"
      ]
     },
     "execution_count": 123,
     "metadata": {},
     "output_type": "execute_result"
    }
   ],
   "source": [
    "blockings.to_dict('index')"
   ]
  },
  {
   "cell_type": "code",
   "execution_count": 116,
   "metadata": {},
   "outputs": [
    {
     "ename": "KeyError",
     "evalue": "'Sep'",
     "output_type": "error",
     "traceback": [
      "\u001b[1;31m---------------------------------------------------------------------------\u001b[0m",
      "\u001b[1;31mKeyError\u001b[0m                                  Traceback (most recent call last)",
      "\u001b[1;32m<ipython-input-116-8960cdc2720e>\u001b[0m in \u001b[0;36m<module>\u001b[1;34m\u001b[0m\n\u001b[1;32m----> 1\u001b[1;33m \u001b[0mx\u001b[0m\u001b[1;33m[\u001b[0m\u001b[1;34m\"Sep\"\u001b[0m\u001b[1;33m]\u001b[0m\u001b[1;33m\u001b[0m\u001b[1;33m\u001b[0m\u001b[0m\n\u001b[0m",
      "\u001b[1;31mKeyError\u001b[0m: 'Sep'"
     ]
    }
   ],
   "source": [
    "x[\"Sep\"]"
   ]
  },
  {
   "cell_type": "code",
   "execution_count": 98,
   "metadata": {},
   "outputs": [],
   "source": [
    "year_month = pd.DataFrame(blockings.index.to_list())"
   ]
  },
  {
   "cell_type": "code",
   "execution_count": 99,
   "metadata": {},
   "outputs": [
    {
     "data": {
      "text/html": [
       "<div>\n",
       "<style scoped>\n",
       "    .dataframe tbody tr th:only-of-type {\n",
       "        vertical-align: middle;\n",
       "    }\n",
       "\n",
       "    .dataframe tbody tr th {\n",
       "        vertical-align: top;\n",
       "    }\n",
       "\n",
       "    .dataframe thead th {\n",
       "        text-align: right;\n",
       "    }\n",
       "</style>\n",
       "<table border=\"1\" class=\"dataframe\">\n",
       "  <thead>\n",
       "    <tr style=\"text-align: right;\">\n",
       "      <th></th>\n",
       "      <th>0</th>\n",
       "      <th>1</th>\n",
       "    </tr>\n",
       "  </thead>\n",
       "  <tbody>\n",
       "    <tr>\n",
       "      <td>0</td>\n",
       "      <td>2020</td>\n",
       "      <td>Apr</td>\n",
       "    </tr>\n",
       "    <tr>\n",
       "      <td>1</td>\n",
       "      <td>2020</td>\n",
       "      <td>Dec</td>\n",
       "    </tr>\n",
       "    <tr>\n",
       "      <td>2</td>\n",
       "      <td>2020</td>\n",
       "      <td>May</td>\n",
       "    </tr>\n",
       "    <tr>\n",
       "      <td>3</td>\n",
       "      <td>2021</td>\n",
       "      <td>Jan</td>\n",
       "    </tr>\n",
       "  </tbody>\n",
       "</table>\n",
       "</div>"
      ],
      "text/plain": [
       "      0    1\n",
       "0  2020  Apr\n",
       "1  2020  Dec\n",
       "2  2020  May\n",
       "3  2021  Jan"
      ]
     },
     "execution_count": 99,
     "metadata": {},
     "output_type": "execute_result"
    }
   ],
   "source": [
    "year_month"
   ]
  },
  {
   "cell_type": "code",
   "execution_count": 29,
   "metadata": {},
   "outputs": [],
   "source": [
    "# blockings_new = blockings.reset_index()\n",
    "# blockings_new = blockings_new.set_index(\"Year\")\n",
    "blockings_new = blockings_new.to_dict()"
   ]
  },
  {
   "cell_type": "code",
   "execution_count": 33,
   "metadata": {},
   "outputs": [
    {
     "data": {
      "text/plain": [
       "{'Day': {(2019, 'Dec'): 31.0,\n",
       "  (2019, 'Jul'): 7.0,\n",
       "  (2019, 'Jun'): 30.0,\n",
       "  (2019, 'May'): 11.0,\n",
       "  (2019, 'Nov'): 30.0,\n",
       "  (2020, 'Feb'): 29.0,\n",
       "  (2020, 'Jan'): 31.0,\n",
       "  (2020, 'Mar'): 31.0}}"
      ]
     },
     "execution_count": 33,
     "metadata": {},
     "output_type": "execute_result"
    }
   ],
   "source": [
    "blockings.to_dict()"
   ]
  },
  {
   "cell_type": "code",
   "execution_count": 34,
   "metadata": {},
   "outputs": [
    {
     "data": {
      "text/html": [
       "<div>\n",
       "<style scoped>\n",
       "    .dataframe tbody tr th:only-of-type {\n",
       "        vertical-align: middle;\n",
       "    }\n",
       "\n",
       "    .dataframe tbody tr th {\n",
       "        vertical-align: top;\n",
       "    }\n",
       "\n",
       "    .dataframe thead th {\n",
       "        text-align: right;\n",
       "    }\n",
       "</style>\n",
       "<table border=\"1\" class=\"dataframe\">\n",
       "  <thead>\n",
       "    <tr style=\"text-align: right;\">\n",
       "      <th></th>\n",
       "      <th></th>\n",
       "      <th>Day</th>\n",
       "    </tr>\n",
       "    <tr>\n",
       "      <th>Year</th>\n",
       "      <th>Month</th>\n",
       "      <th></th>\n",
       "    </tr>\n",
       "  </thead>\n",
       "  <tbody>\n",
       "    <tr>\n",
       "      <td rowspan=\"5\" valign=\"top\">2019</td>\n",
       "      <td>Dec</td>\n",
       "      <td>31</td>\n",
       "    </tr>\n",
       "    <tr>\n",
       "      <td>Jul</td>\n",
       "      <td>7</td>\n",
       "    </tr>\n",
       "    <tr>\n",
       "      <td>Jun</td>\n",
       "      <td>30</td>\n",
       "    </tr>\n",
       "    <tr>\n",
       "      <td>May</td>\n",
       "      <td>11</td>\n",
       "    </tr>\n",
       "    <tr>\n",
       "      <td>Nov</td>\n",
       "      <td>30</td>\n",
       "    </tr>\n",
       "    <tr>\n",
       "      <td rowspan=\"3\" valign=\"top\">2020</td>\n",
       "      <td>Feb</td>\n",
       "      <td>29</td>\n",
       "    </tr>\n",
       "    <tr>\n",
       "      <td>Jan</td>\n",
       "      <td>31</td>\n",
       "    </tr>\n",
       "    <tr>\n",
       "      <td>Mar</td>\n",
       "      <td>31</td>\n",
       "    </tr>\n",
       "  </tbody>\n",
       "</table>\n",
       "</div>"
      ],
      "text/plain": [
       "           Day\n",
       "Year Month    \n",
       "2019 Dec    31\n",
       "     Jul     7\n",
       "     Jun    30\n",
       "     May    11\n",
       "     Nov    30\n",
       "2020 Feb    29\n",
       "     Jan    31\n",
       "     Mar    31"
      ]
     },
     "execution_count": 34,
     "metadata": {},
     "output_type": "execute_result"
    }
   ],
   "source": [
    "blockings"
   ]
  },
  {
   "cell_type": "code",
   "execution_count": 39,
   "metadata": {},
   "outputs": [
    {
     "data": {
      "text/plain": [
       "array([[31.0],\n",
       "       [7.0],\n",
       "       [30.0],\n",
       "       [11.0],\n",
       "       [30.0],\n",
       "       [29.0],\n",
       "       [31.0],\n",
       "       [31.0]], dtype=object)"
      ]
     },
     "execution_count": 39,
     "metadata": {},
     "output_type": "execute_result"
    }
   ],
   "source": [
    "blockings.values"
   ]
  },
  {
   "cell_type": "code",
   "execution_count": 41,
   "metadata": {},
   "outputs": [],
   "source": [
    "today = datetime.datetime.today()\n",
    "# datem = datetime(today.year, today.month, 1)"
   ]
  },
  {
   "cell_type": "code",
   "execution_count": 42,
   "metadata": {},
   "outputs": [
    {
     "data": {
      "text/plain": [
       "datetime.datetime(2020, 1, 23, 14, 38, 39, 401810)"
      ]
     },
     "execution_count": 42,
     "metadata": {},
     "output_type": "execute_result"
    }
   ],
   "source": [
    "today"
   ]
  },
  {
   "cell_type": "code",
   "execution_count": 43,
   "metadata": {},
   "outputs": [
    {
     "data": {
      "text/plain": [
       "2020"
      ]
     },
     "execution_count": 43,
     "metadata": {},
     "output_type": "execute_result"
    }
   ],
   "source": [
    "today.year"
   ]
  },
  {
   "cell_type": "code",
   "execution_count": 45,
   "metadata": {},
   "outputs": [
    {
     "data": {
      "text/plain": [
       "'Jan'"
      ]
     },
     "execution_count": 45,
     "metadata": {},
     "output_type": "execute_result"
    }
   ],
   "source": [
    "calendar.month_abbr[today.month]"
   ]
  },
  {
   "cell_type": "code",
   "execution_count": 46,
   "metadata": {},
   "outputs": [],
   "source": [
    "import numpy as np"
   ]
  },
  {
   "cell_type": "code",
   "execution_count": 51,
   "metadata": {},
   "outputs": [
    {
     "data": {
      "text/plain": [
       "numpy.timedelta64(24,'D')"
      ]
     },
     "execution_count": 51,
     "metadata": {},
     "output_type": "execute_result"
    }
   ],
   "source": [
    "today.day + np.timedelta64(1,'D')"
   ]
  },
  {
   "cell_type": "code",
   "execution_count": 55,
   "metadata": {},
   "outputs": [
    {
     "data": {
      "text/plain": [
       "numpy.timedelta64(13,'M')"
      ]
     },
     "execution_count": 55,
     "metadata": {},
     "output_type": "execute_result"
    }
   ],
   "source": [
    "today.month + np.timedelta64(12,'M')"
   ]
  },
  {
   "cell_type": "code",
   "execution_count": 63,
   "metadata": {},
   "outputs": [],
   "source": [
    "current_date = datetime.datetime.today()\n",
    "latest_date = current_date.replace(year=current_date.year+1)"
   ]
  },
  {
   "cell_type": "code",
   "execution_count": 64,
   "metadata": {},
   "outputs": [
    {
     "data": {
      "text/plain": [
       "datetime.datetime(2020, 1, 23, 14, 55, 38, 695979)"
      ]
     },
     "execution_count": 64,
     "metadata": {},
     "output_type": "execute_result"
    }
   ],
   "source": [
    "current_date"
   ]
  },
  {
   "cell_type": "code",
   "execution_count": 65,
   "metadata": {},
   "outputs": [
    {
     "data": {
      "text/plain": [
       "datetime.datetime(2021, 1, 23, 14, 55, 38, 695979)"
      ]
     },
     "execution_count": 65,
     "metadata": {},
     "output_type": "execute_result"
    }
   ],
   "source": [
    "latest_date"
   ]
  },
  {
   "cell_type": "code",
   "execution_count": 67,
   "metadata": {},
   "outputs": [
    {
     "data": {
      "text/plain": [
       "True"
      ]
     },
     "execution_count": 67,
     "metadata": {},
     "output_type": "execute_result"
    }
   ],
   "source": [
    "latest_date > current_date"
   ]
  },
  {
   "cell_type": "code",
   "execution_count": 124,
   "metadata": {},
   "outputs": [],
   "source": [
    "import pandas as pd"
   ]
  },
  {
   "cell_type": "code",
   "execution_count": 127,
   "metadata": {},
   "outputs": [],
   "source": [
    "at = pd.read_csv(r\"C:/Users/payoj.jain/Downloads/at.csv\")"
   ]
  },
  {
   "cell_type": "code",
   "execution_count": 128,
   "metadata": {},
   "outputs": [],
   "source": [
    "at = at.rename(columns={\"Unnamed: 0\" : \"id\"})"
   ]
  },
  {
   "cell_type": "code",
   "execution_count": 129,
   "metadata": {},
   "outputs": [
    {
     "data": {
      "text/html": [
       "<div>\n",
       "<style scoped>\n",
       "    .dataframe tbody tr th:only-of-type {\n",
       "        vertical-align: middle;\n",
       "    }\n",
       "\n",
       "    .dataframe tbody tr th {\n",
       "        vertical-align: top;\n",
       "    }\n",
       "\n",
       "    .dataframe thead th {\n",
       "        text-align: right;\n",
       "    }\n",
       "</style>\n",
       "<table border=\"1\" class=\"dataframe\">\n",
       "  <thead>\n",
       "    <tr style=\"text-align: right;\">\n",
       "      <th></th>\n",
       "      <th>id</th>\n",
       "      <th>house_pk</th>\n",
       "      <th>agency_house_id</th>\n",
       "      <th>agency_id</th>\n",
       "      <th>housetype_id</th>\n",
       "      <th>max_persons</th>\n",
       "      <th>no_bedrooms</th>\n",
       "      <th>no_bathrooms</th>\n",
       "      <th>pool</th>\n",
       "      <th>indoor_pool</th>\n",
       "      <th>spa</th>\n",
       "      <th>sauna</th>\n",
       "      <th>internet</th>\n",
       "      <th>gps_latitude</th>\n",
       "      <th>gps_longitude</th>\n",
       "      <th>month</th>\n",
       "      <th>gbv</th>\n",
       "      <th>bookings</th>\n",
       "    </tr>\n",
       "  </thead>\n",
       "  <tbody>\n",
       "    <tr>\n",
       "      <td>0</td>\n",
       "      <td>1</td>\n",
       "      <td>1</td>\n",
       "      <td>62018393</td>\n",
       "      <td>24</td>\n",
       "      <td>1</td>\n",
       "      <td>8</td>\n",
       "      <td>2</td>\n",
       "      <td>2</td>\n",
       "      <td>0</td>\n",
       "      <td>0</td>\n",
       "      <td>0</td>\n",
       "      <td>0</td>\n",
       "      <td>1</td>\n",
       "      <td>47.516853</td>\n",
       "      <td>12.439378</td>\n",
       "      <td>9.0</td>\n",
       "      <td>0.0</td>\n",
       "      <td>0.0</td>\n",
       "    </tr>\n",
       "    <tr>\n",
       "      <td>1</td>\n",
       "      <td>2</td>\n",
       "      <td>1</td>\n",
       "      <td>62018393</td>\n",
       "      <td>24</td>\n",
       "      <td>1</td>\n",
       "      <td>8</td>\n",
       "      <td>2</td>\n",
       "      <td>2</td>\n",
       "      <td>0</td>\n",
       "      <td>0</td>\n",
       "      <td>0</td>\n",
       "      <td>0</td>\n",
       "      <td>1</td>\n",
       "      <td>47.516853</td>\n",
       "      <td>12.439378</td>\n",
       "      <td>12.0</td>\n",
       "      <td>0.0</td>\n",
       "      <td>0.0</td>\n",
       "    </tr>\n",
       "    <tr>\n",
       "      <td>2</td>\n",
       "      <td>3</td>\n",
       "      <td>1</td>\n",
       "      <td>62018393</td>\n",
       "      <td>24</td>\n",
       "      <td>1</td>\n",
       "      <td>8</td>\n",
       "      <td>2</td>\n",
       "      <td>2</td>\n",
       "      <td>0</td>\n",
       "      <td>0</td>\n",
       "      <td>0</td>\n",
       "      <td>0</td>\n",
       "      <td>1</td>\n",
       "      <td>47.516853</td>\n",
       "      <td>12.439378</td>\n",
       "      <td>8.0</td>\n",
       "      <td>0.0</td>\n",
       "      <td>0.0</td>\n",
       "    </tr>\n",
       "    <tr>\n",
       "      <td>3</td>\n",
       "      <td>4</td>\n",
       "      <td>1</td>\n",
       "      <td>62018393</td>\n",
       "      <td>24</td>\n",
       "      <td>1</td>\n",
       "      <td>8</td>\n",
       "      <td>2</td>\n",
       "      <td>2</td>\n",
       "      <td>0</td>\n",
       "      <td>0</td>\n",
       "      <td>0</td>\n",
       "      <td>0</td>\n",
       "      <td>1</td>\n",
       "      <td>47.516853</td>\n",
       "      <td>12.439378</td>\n",
       "      <td>10.0</td>\n",
       "      <td>0.0</td>\n",
       "      <td>0.0</td>\n",
       "    </tr>\n",
       "    <tr>\n",
       "      <td>4</td>\n",
       "      <td>5</td>\n",
       "      <td>1</td>\n",
       "      <td>62018393</td>\n",
       "      <td>24</td>\n",
       "      <td>1</td>\n",
       "      <td>8</td>\n",
       "      <td>2</td>\n",
       "      <td>2</td>\n",
       "      <td>0</td>\n",
       "      <td>0</td>\n",
       "      <td>0</td>\n",
       "      <td>0</td>\n",
       "      <td>1</td>\n",
       "      <td>47.516853</td>\n",
       "      <td>12.439378</td>\n",
       "      <td>11.0</td>\n",
       "      <td>0.0</td>\n",
       "      <td>0.0</td>\n",
       "    </tr>\n",
       "    <tr>\n",
       "      <td>...</td>\n",
       "      <td>...</td>\n",
       "      <td>...</td>\n",
       "      <td>...</td>\n",
       "      <td>...</td>\n",
       "      <td>...</td>\n",
       "      <td>...</td>\n",
       "      <td>...</td>\n",
       "      <td>...</td>\n",
       "      <td>...</td>\n",
       "      <td>...</td>\n",
       "      <td>...</td>\n",
       "      <td>...</td>\n",
       "      <td>...</td>\n",
       "      <td>...</td>\n",
       "      <td>...</td>\n",
       "      <td>...</td>\n",
       "      <td>...</td>\n",
       "      <td>...</td>\n",
       "    </tr>\n",
       "    <tr>\n",
       "      <td>78173</td>\n",
       "      <td>78174</td>\n",
       "      <td>33648</td>\n",
       "      <td>AT-6105-28-1</td>\n",
       "      <td>7000</td>\n",
       "      <td>1</td>\n",
       "      <td>-1</td>\n",
       "      <td>-1</td>\n",
       "      <td>-1</td>\n",
       "      <td>0</td>\n",
       "      <td>0</td>\n",
       "      <td>0</td>\n",
       "      <td>0</td>\n",
       "      <td>0</td>\n",
       "      <td>-1.000000</td>\n",
       "      <td>-1.000000</td>\n",
       "      <td>NaN</td>\n",
       "      <td>NaN</td>\n",
       "      <td>NaN</td>\n",
       "    </tr>\n",
       "    <tr>\n",
       "      <td>78174</td>\n",
       "      <td>78175</td>\n",
       "      <td>33649</td>\n",
       "      <td>AT-6850-02-1</td>\n",
       "      <td>7000</td>\n",
       "      <td>1</td>\n",
       "      <td>-1</td>\n",
       "      <td>-1</td>\n",
       "      <td>-1</td>\n",
       "      <td>0</td>\n",
       "      <td>0</td>\n",
       "      <td>0</td>\n",
       "      <td>0</td>\n",
       "      <td>0</td>\n",
       "      <td>-1.000000</td>\n",
       "      <td>-1.000000</td>\n",
       "      <td>NaN</td>\n",
       "      <td>NaN</td>\n",
       "      <td>NaN</td>\n",
       "    </tr>\n",
       "    <tr>\n",
       "      <td>78175</td>\n",
       "      <td>78176</td>\n",
       "      <td>33650</td>\n",
       "      <td>AT-3602-01-1</td>\n",
       "      <td>7000</td>\n",
       "      <td>1</td>\n",
       "      <td>-1</td>\n",
       "      <td>-1</td>\n",
       "      <td>-1</td>\n",
       "      <td>0</td>\n",
       "      <td>0</td>\n",
       "      <td>0</td>\n",
       "      <td>0</td>\n",
       "      <td>0</td>\n",
       "      <td>-1.000000</td>\n",
       "      <td>-1.000000</td>\n",
       "      <td>NaN</td>\n",
       "      <td>NaN</td>\n",
       "      <td>NaN</td>\n",
       "    </tr>\n",
       "    <tr>\n",
       "      <td>78176</td>\n",
       "      <td>78177</td>\n",
       "      <td>33651</td>\n",
       "      <td>AT-5562-09-1</td>\n",
       "      <td>7000</td>\n",
       "      <td>1</td>\n",
       "      <td>-1</td>\n",
       "      <td>-1</td>\n",
       "      <td>-1</td>\n",
       "      <td>0</td>\n",
       "      <td>0</td>\n",
       "      <td>0</td>\n",
       "      <td>0</td>\n",
       "      <td>0</td>\n",
       "      <td>-1.000000</td>\n",
       "      <td>-1.000000</td>\n",
       "      <td>NaN</td>\n",
       "      <td>NaN</td>\n",
       "      <td>NaN</td>\n",
       "    </tr>\n",
       "    <tr>\n",
       "      <td>78177</td>\n",
       "      <td>78178</td>\n",
       "      <td>33652</td>\n",
       "      <td>AT-0010-19-1</td>\n",
       "      <td>7000</td>\n",
       "      <td>1</td>\n",
       "      <td>-1</td>\n",
       "      <td>-1</td>\n",
       "      <td>-1</td>\n",
       "      <td>0</td>\n",
       "      <td>0</td>\n",
       "      <td>0</td>\n",
       "      <td>0</td>\n",
       "      <td>0</td>\n",
       "      <td>-1.000000</td>\n",
       "      <td>-1.000000</td>\n",
       "      <td>NaN</td>\n",
       "      <td>NaN</td>\n",
       "      <td>NaN</td>\n",
       "    </tr>\n",
       "  </tbody>\n",
       "</table>\n",
       "<p>78178 rows × 18 columns</p>\n",
       "</div>"
      ],
      "text/plain": [
       "          id  house_pk agency_house_id  agency_id  housetype_id  max_persons  \\\n",
       "0          1         1        62018393         24             1            8   \n",
       "1          2         1        62018393         24             1            8   \n",
       "2          3         1        62018393         24             1            8   \n",
       "3          4         1        62018393         24             1            8   \n",
       "4          5         1        62018393         24             1            8   \n",
       "...      ...       ...             ...        ...           ...          ...   \n",
       "78173  78174     33648    AT-6105-28-1       7000             1           -1   \n",
       "78174  78175     33649    AT-6850-02-1       7000             1           -1   \n",
       "78175  78176     33650    AT-3602-01-1       7000             1           -1   \n",
       "78176  78177     33651    AT-5562-09-1       7000             1           -1   \n",
       "78177  78178     33652    AT-0010-19-1       7000             1           -1   \n",
       "\n",
       "       no_bedrooms  no_bathrooms  pool  indoor_pool  spa  sauna  internet  \\\n",
       "0                2             2     0            0    0      0         1   \n",
       "1                2             2     0            0    0      0         1   \n",
       "2                2             2     0            0    0      0         1   \n",
       "3                2             2     0            0    0      0         1   \n",
       "4                2             2     0            0    0      0         1   \n",
       "...            ...           ...   ...          ...  ...    ...       ...   \n",
       "78173           -1            -1     0            0    0      0         0   \n",
       "78174           -1            -1     0            0    0      0         0   \n",
       "78175           -1            -1     0            0    0      0         0   \n",
       "78176           -1            -1     0            0    0      0         0   \n",
       "78177           -1            -1     0            0    0      0         0   \n",
       "\n",
       "       gps_latitude  gps_longitude  month  gbv  bookings  \n",
       "0         47.516853      12.439378    9.0  0.0       0.0  \n",
       "1         47.516853      12.439378   12.0  0.0       0.0  \n",
       "2         47.516853      12.439378    8.0  0.0       0.0  \n",
       "3         47.516853      12.439378   10.0  0.0       0.0  \n",
       "4         47.516853      12.439378   11.0  0.0       0.0  \n",
       "...             ...            ...    ...  ...       ...  \n",
       "78173     -1.000000      -1.000000    NaN  NaN       NaN  \n",
       "78174     -1.000000      -1.000000    NaN  NaN       NaN  \n",
       "78175     -1.000000      -1.000000    NaN  NaN       NaN  \n",
       "78176     -1.000000      -1.000000    NaN  NaN       NaN  \n",
       "78177     -1.000000      -1.000000    NaN  NaN       NaN  \n",
       "\n",
       "[78178 rows x 18 columns]"
      ]
     },
     "execution_count": 129,
     "metadata": {},
     "output_type": "execute_result"
    }
   ],
   "source": [
    "at"
   ]
  },
  {
   "cell_type": "code",
   "execution_count": 130,
   "metadata": {},
   "outputs": [],
   "source": [
    "at_attributes = at[[\"id\",\"house_pk\",\"agency_house_id\",\"max_persons\",\"no_bedrooms\",\"no_bathrooms\",\"pool\",\"indoor_pool\",\"internet\",\"gps_latitude\",\"gps_longitude\",\"gbv\"]]"
   ]
  },
  {
   "cell_type": "code",
   "execution_count": 132,
   "metadata": {},
   "outputs": [],
   "source": [
    "at_months = at_attributes.groupby(\"agency_house_id\").count()\n",
    "at_gbv = at_attributes.groupby(\"agency_house_id\").sum()"
   ]
  },
  {
   "cell_type": "code",
   "execution_count": 134,
   "metadata": {},
   "outputs": [
    {
     "data": {
      "text/html": [
       "<div>\n",
       "<style scoped>\n",
       "    .dataframe tbody tr th:only-of-type {\n",
       "        vertical-align: middle;\n",
       "    }\n",
       "\n",
       "    .dataframe tbody tr th {\n",
       "        vertical-align: top;\n",
       "    }\n",
       "\n",
       "    .dataframe thead th {\n",
       "        text-align: right;\n",
       "    }\n",
       "</style>\n",
       "<table border=\"1\" class=\"dataframe\">\n",
       "  <thead>\n",
       "    <tr style=\"text-align: right;\">\n",
       "      <th></th>\n",
       "      <th>id</th>\n",
       "      <th>house_pk</th>\n",
       "      <th>max_persons</th>\n",
       "      <th>no_bedrooms</th>\n",
       "      <th>no_bathrooms</th>\n",
       "      <th>pool</th>\n",
       "      <th>indoor_pool</th>\n",
       "      <th>internet</th>\n",
       "      <th>gps_latitude</th>\n",
       "      <th>gps_longitude</th>\n",
       "      <th>gbv</th>\n",
       "    </tr>\n",
       "    <tr>\n",
       "      <th>agency_house_id</th>\n",
       "      <th></th>\n",
       "      <th></th>\n",
       "      <th></th>\n",
       "      <th></th>\n",
       "      <th></th>\n",
       "      <th></th>\n",
       "      <th></th>\n",
       "      <th></th>\n",
       "      <th></th>\n",
       "      <th></th>\n",
       "      <th></th>\n",
       "    </tr>\n",
       "  </thead>\n",
       "  <tbody>\n",
       "    <tr>\n",
       "      <td>01000</td>\n",
       "      <td>1</td>\n",
       "      <td>1</td>\n",
       "      <td>1</td>\n",
       "      <td>1</td>\n",
       "      <td>1</td>\n",
       "      <td>1</td>\n",
       "      <td>1</td>\n",
       "      <td>1</td>\n",
       "      <td>1</td>\n",
       "      <td>1</td>\n",
       "      <td>0</td>\n",
       "    </tr>\n",
       "    <tr>\n",
       "      <td>01188</td>\n",
       "      <td>1</td>\n",
       "      <td>1</td>\n",
       "      <td>1</td>\n",
       "      <td>1</td>\n",
       "      <td>1</td>\n",
       "      <td>1</td>\n",
       "      <td>1</td>\n",
       "      <td>1</td>\n",
       "      <td>1</td>\n",
       "      <td>1</td>\n",
       "      <td>0</td>\n",
       "    </tr>\n",
       "    <tr>\n",
       "      <td>01197</td>\n",
       "      <td>1</td>\n",
       "      <td>1</td>\n",
       "      <td>1</td>\n",
       "      <td>1</td>\n",
       "      <td>1</td>\n",
       "      <td>1</td>\n",
       "      <td>1</td>\n",
       "      <td>1</td>\n",
       "      <td>1</td>\n",
       "      <td>1</td>\n",
       "      <td>0</td>\n",
       "    </tr>\n",
       "    <tr>\n",
       "      <td>01200</td>\n",
       "      <td>1</td>\n",
       "      <td>1</td>\n",
       "      <td>1</td>\n",
       "      <td>1</td>\n",
       "      <td>1</td>\n",
       "      <td>1</td>\n",
       "      <td>1</td>\n",
       "      <td>1</td>\n",
       "      <td>1</td>\n",
       "      <td>1</td>\n",
       "      <td>0</td>\n",
       "    </tr>\n",
       "    <tr>\n",
       "      <td>01202</td>\n",
       "      <td>1</td>\n",
       "      <td>1</td>\n",
       "      <td>1</td>\n",
       "      <td>1</td>\n",
       "      <td>1</td>\n",
       "      <td>1</td>\n",
       "      <td>1</td>\n",
       "      <td>1</td>\n",
       "      <td>1</td>\n",
       "      <td>1</td>\n",
       "      <td>0</td>\n",
       "    </tr>\n",
       "    <tr>\n",
       "      <td>...</td>\n",
       "      <td>...</td>\n",
       "      <td>...</td>\n",
       "      <td>...</td>\n",
       "      <td>...</td>\n",
       "      <td>...</td>\n",
       "      <td>...</td>\n",
       "      <td>...</td>\n",
       "      <td>...</td>\n",
       "      <td>...</td>\n",
       "      <td>...</td>\n",
       "      <td>...</td>\n",
       "    </tr>\n",
       "    <tr>\n",
       "      <td>WIL107</td>\n",
       "      <td>1</td>\n",
       "      <td>1</td>\n",
       "      <td>1</td>\n",
       "      <td>1</td>\n",
       "      <td>1</td>\n",
       "      <td>1</td>\n",
       "      <td>1</td>\n",
       "      <td>1</td>\n",
       "      <td>1</td>\n",
       "      <td>1</td>\n",
       "      <td>0</td>\n",
       "    </tr>\n",
       "    <tr>\n",
       "      <td>WIL108</td>\n",
       "      <td>1</td>\n",
       "      <td>1</td>\n",
       "      <td>1</td>\n",
       "      <td>1</td>\n",
       "      <td>1</td>\n",
       "      <td>1</td>\n",
       "      <td>1</td>\n",
       "      <td>1</td>\n",
       "      <td>1</td>\n",
       "      <td>1</td>\n",
       "      <td>0</td>\n",
       "    </tr>\n",
       "    <tr>\n",
       "      <td>WIL140</td>\n",
       "      <td>1</td>\n",
       "      <td>1</td>\n",
       "      <td>1</td>\n",
       "      <td>1</td>\n",
       "      <td>1</td>\n",
       "      <td>1</td>\n",
       "      <td>1</td>\n",
       "      <td>1</td>\n",
       "      <td>1</td>\n",
       "      <td>1</td>\n",
       "      <td>0</td>\n",
       "    </tr>\n",
       "    <tr>\n",
       "      <td>WIL430</td>\n",
       "      <td>8</td>\n",
       "      <td>8</td>\n",
       "      <td>8</td>\n",
       "      <td>8</td>\n",
       "      <td>8</td>\n",
       "      <td>8</td>\n",
       "      <td>8</td>\n",
       "      <td>8</td>\n",
       "      <td>8</td>\n",
       "      <td>8</td>\n",
       "      <td>8</td>\n",
       "    </tr>\n",
       "    <tr>\n",
       "      <td>WIL710</td>\n",
       "      <td>1</td>\n",
       "      <td>1</td>\n",
       "      <td>1</td>\n",
       "      <td>1</td>\n",
       "      <td>1</td>\n",
       "      <td>1</td>\n",
       "      <td>1</td>\n",
       "      <td>1</td>\n",
       "      <td>1</td>\n",
       "      <td>1</td>\n",
       "      <td>0</td>\n",
       "    </tr>\n",
       "  </tbody>\n",
       "</table>\n",
       "<p>30995 rows × 11 columns</p>\n",
       "</div>"
      ],
      "text/plain": [
       "                 id  house_pk  max_persons  no_bedrooms  no_bathrooms  pool  \\\n",
       "agency_house_id                                                               \n",
       "01000             1         1            1            1             1     1   \n",
       "01188             1         1            1            1             1     1   \n",
       "01197             1         1            1            1             1     1   \n",
       "01200             1         1            1            1             1     1   \n",
       "01202             1         1            1            1             1     1   \n",
       "...              ..       ...          ...          ...           ...   ...   \n",
       "WIL107            1         1            1            1             1     1   \n",
       "WIL108            1         1            1            1             1     1   \n",
       "WIL140            1         1            1            1             1     1   \n",
       "WIL430            8         8            8            8             8     8   \n",
       "WIL710            1         1            1            1             1     1   \n",
       "\n",
       "                 indoor_pool  internet  gps_latitude  gps_longitude  gbv  \n",
       "agency_house_id                                                           \n",
       "01000                      1         1             1              1    0  \n",
       "01188                      1         1             1              1    0  \n",
       "01197                      1         1             1              1    0  \n",
       "01200                      1         1             1              1    0  \n",
       "01202                      1         1             1              1    0  \n",
       "...                      ...       ...           ...            ...  ...  \n",
       "WIL107                     1         1             1              1    0  \n",
       "WIL108                     1         1             1              1    0  \n",
       "WIL140                     1         1             1              1    0  \n",
       "WIL430                     8         8             8              8    8  \n",
       "WIL710                     1         1             1              1    0  \n",
       "\n",
       "[30995 rows x 11 columns]"
      ]
     },
     "execution_count": 134,
     "metadata": {},
     "output_type": "execute_result"
    }
   ],
   "source": [
    "at_months"
   ]
  },
  {
   "cell_type": "code",
   "execution_count": null,
   "metadata": {},
   "outputs": [],
   "source": []
  }
 ],
 "metadata": {
  "kernelspec": {
   "display_name": "Python 3",
   "language": "python",
   "name": "python3"
  },
  "language_info": {
   "codemirror_mode": {
    "name": "ipython",
    "version": 3
   },
   "file_extension": ".py",
   "mimetype": "text/x-python",
   "name": "python",
   "nbconvert_exporter": "python",
   "pygments_lexer": "ipython3",
   "version": "3.7.4"
  }
 },
 "nbformat": 4,
 "nbformat_minor": 4
}
